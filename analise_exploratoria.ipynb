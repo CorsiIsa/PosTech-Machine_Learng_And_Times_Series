{
 "cells": [
  {
   "cell_type": "markdown",
   "metadata": {},
   "source": [
    "# Análise Exploratória de Dados (EDA)"
   ]
  },
  {
   "cell_type": "markdown",
   "metadata": {},
   "source": [
    "Nesta aula, vamos trabalhar com um case da plataforma Spotify, analisando alguns álbuns e as músicas presentes neles."
   ]
  },
  {
   "cell_type": "code",
   "execution_count": 1,
   "metadata": {},
   "outputs": [],
   "source": [
    "import pandas as pd\n",
    "import matplotlib.pyplot as plt\n",
    "import seaborn as sns"
   ]
  },
  {
   "cell_type": "code",
   "execution_count": 2,
   "metadata": {},
   "outputs": [
    {
     "data": {
      "text/html": [
       "<div>\n",
       "<style scoped>\n",
       "    .dataframe tbody tr th:only-of-type {\n",
       "        vertical-align: middle;\n",
       "    }\n",
       "\n",
       "    .dataframe tbody tr th {\n",
       "        vertical-align: top;\n",
       "    }\n",
       "\n",
       "    .dataframe thead th {\n",
       "        text-align: right;\n",
       "    }\n",
       "</style>\n",
       "<table border=\"1\" class=\"dataframe\">\n",
       "  <thead>\n",
       "    <tr style=\"text-align: right;\">\n",
       "      <th></th>\n",
       "      <th>name</th>\n",
       "      <th>album</th>\n",
       "      <th>release_date</th>\n",
       "      <th>track_number</th>\n",
       "      <th>acousticness</th>\n",
       "      <th>danceability</th>\n",
       "      <th>energy</th>\n",
       "      <th>instrumentalness</th>\n",
       "      <th>liveness</th>\n",
       "      <th>loudness</th>\n",
       "      <th>speechiness</th>\n",
       "      <th>tempo</th>\n",
       "      <th>valence</th>\n",
       "      <th>popularity</th>\n",
       "      <th>duration_ms</th>\n",
       "    </tr>\n",
       "  </thead>\n",
       "  <tbody>\n",
       "    <tr>\n",
       "      <th>0</th>\n",
       "      <td>Concert Intro Music - Live</td>\n",
       "      <td>Licked Live In NYC</td>\n",
       "      <td>2022-06-10</td>\n",
       "      <td>1</td>\n",
       "      <td>0.0824</td>\n",
       "      <td>0.463</td>\n",
       "      <td>0.993</td>\n",
       "      <td>0.996000</td>\n",
       "      <td>0.932</td>\n",
       "      <td>-12913.0</td>\n",
       "      <td>0.1100</td>\n",
       "      <td>118001.0</td>\n",
       "      <td>0.0302</td>\n",
       "      <td>33</td>\n",
       "      <td>48640</td>\n",
       "    </tr>\n",
       "    <tr>\n",
       "      <th>1</th>\n",
       "      <td>Street Fighting Man - Live</td>\n",
       "      <td>Licked Live In NYC</td>\n",
       "      <td>2022-06-10</td>\n",
       "      <td>2</td>\n",
       "      <td>0.4370</td>\n",
       "      <td>0.326</td>\n",
       "      <td>0.965</td>\n",
       "      <td>0.233000</td>\n",
       "      <td>0.961</td>\n",
       "      <td>-4803.0</td>\n",
       "      <td>0.0759</td>\n",
       "      <td>131455.0</td>\n",
       "      <td>0.3180</td>\n",
       "      <td>34</td>\n",
       "      <td>253173</td>\n",
       "    </tr>\n",
       "    <tr>\n",
       "      <th>2</th>\n",
       "      <td>Start Me Up - Live</td>\n",
       "      <td>Licked Live In NYC</td>\n",
       "      <td>2022-06-10</td>\n",
       "      <td>3</td>\n",
       "      <td>0.4160</td>\n",
       "      <td>0.386</td>\n",
       "      <td>0.969</td>\n",
       "      <td>0.400000</td>\n",
       "      <td>0.956</td>\n",
       "      <td>-4936.0</td>\n",
       "      <td>0.1150</td>\n",
       "      <td>130066.0</td>\n",
       "      <td>0.3130</td>\n",
       "      <td>34</td>\n",
       "      <td>263160</td>\n",
       "    </tr>\n",
       "    <tr>\n",
       "      <th>3</th>\n",
       "      <td>If You Can't Rock Me - Live</td>\n",
       "      <td>Licked Live In NYC</td>\n",
       "      <td>2022-06-10</td>\n",
       "      <td>4</td>\n",
       "      <td>0.5670</td>\n",
       "      <td>0.369</td>\n",
       "      <td>0.985</td>\n",
       "      <td>0.000107</td>\n",
       "      <td>0.895</td>\n",
       "      <td>-5535.0</td>\n",
       "      <td>0.1930</td>\n",
       "      <td>132994.0</td>\n",
       "      <td>0.1470</td>\n",
       "      <td>32</td>\n",
       "      <td>305880</td>\n",
       "    </tr>\n",
       "    <tr>\n",
       "      <th>4</th>\n",
       "      <td>Don’t Stop - Live</td>\n",
       "      <td>Licked Live In NYC</td>\n",
       "      <td>2022-06-10</td>\n",
       "      <td>5</td>\n",
       "      <td>0.4000</td>\n",
       "      <td>0.303</td>\n",
       "      <td>0.969</td>\n",
       "      <td>0.055900</td>\n",
       "      <td>0.966</td>\n",
       "      <td>-5098.0</td>\n",
       "      <td>0.0930</td>\n",
       "      <td>130533.0</td>\n",
       "      <td>0.2060</td>\n",
       "      <td>32</td>\n",
       "      <td>305106</td>\n",
       "    </tr>\n",
       "  </tbody>\n",
       "</table>\n",
       "</div>"
      ],
      "text/plain": [
       "                          name               album release_date  track_number  \\\n",
       "0   Concert Intro Music - Live  Licked Live In NYC   2022-06-10             1   \n",
       "1   Street Fighting Man - Live  Licked Live In NYC   2022-06-10             2   \n",
       "2           Start Me Up - Live  Licked Live In NYC   2022-06-10             3   \n",
       "3  If You Can't Rock Me - Live  Licked Live In NYC   2022-06-10             4   \n",
       "4            Don’t Stop - Live  Licked Live In NYC   2022-06-10             5   \n",
       "\n",
       "   acousticness  danceability  energy  instrumentalness  liveness  loudness  \\\n",
       "0        0.0824         0.463   0.993          0.996000     0.932  -12913.0   \n",
       "1        0.4370         0.326   0.965          0.233000     0.961   -4803.0   \n",
       "2        0.4160         0.386   0.969          0.400000     0.956   -4936.0   \n",
       "3        0.5670         0.369   0.985          0.000107     0.895   -5535.0   \n",
       "4        0.4000         0.303   0.969          0.055900     0.966   -5098.0   \n",
       "\n",
       "   speechiness     tempo  valence  popularity  duration_ms  \n",
       "0       0.1100  118001.0   0.0302          33        48640  \n",
       "1       0.0759  131455.0   0.3180          34       253173  \n",
       "2       0.1150  130066.0   0.3130          34       263160  \n",
       "3       0.1930  132994.0   0.1470          32       305880  \n",
       "4       0.0930  130533.0   0.2060          32       305106  "
      ]
     },
     "execution_count": 2,
     "metadata": {},
     "output_type": "execute_result"
    }
   ],
   "source": [
    "url = 'data\\dataset_rolling_stones.xlsx'\n",
    "\n",
    "df_rolling_stones = pd.read_excel(url)\n",
    "\n",
    "df_rolling_stones.head()"
   ]
  },
  {
   "cell_type": "code",
   "execution_count": 3,
   "metadata": {},
   "outputs": [
    {
     "name": "stdout",
     "output_type": "stream",
     "text": [
      "<class 'pandas.core.frame.DataFrame'>\n",
      "RangeIndex: 1610 entries, 0 to 1609\n",
      "Data columns (total 15 columns):\n",
      " #   Column            Non-Null Count  Dtype         \n",
      "---  ------            --------------  -----         \n",
      " 0   name              1610 non-null   object        \n",
      " 1   album             1610 non-null   object        \n",
      " 2   release_date      1610 non-null   datetime64[ns]\n",
      " 3   track_number      1610 non-null   int64         \n",
      " 4   acousticness      1610 non-null   float64       \n",
      " 5   danceability      1610 non-null   float64       \n",
      " 6   energy            1610 non-null   float64       \n",
      " 7   instrumentalness  1610 non-null   float64       \n",
      " 8   liveness          1610 non-null   float64       \n",
      " 9   loudness          1610 non-null   float64       \n",
      " 10  speechiness       1610 non-null   float64       \n",
      " 11  tempo             1610 non-null   float64       \n",
      " 12  valence           1610 non-null   float64       \n",
      " 13  popularity        1610 non-null   int64         \n",
      " 14  duration_ms       1610 non-null   int64         \n",
      "dtypes: datetime64[ns](1), float64(9), int64(3), object(2)\n",
      "memory usage: 188.8+ KB\n"
     ]
    }
   ],
   "source": [
    "df_rolling_stones.info()"
   ]
  },
  {
   "cell_type": "markdown",
   "metadata": {},
   "source": [
    "Vamos analisar a data de estreia da banda no mercado musical e o momento em que ela deixou de lançar novas músicas."
   ]
  },
  {
   "cell_type": "code",
   "execution_count": 4,
   "metadata": {},
   "outputs": [
    {
     "name": "stdout",
     "output_type": "stream",
     "text": [
      "Data inicial:  1964-04-16 00:00:00\n"
     ]
    }
   ],
   "source": [
    "print(\"Data inicial: \", df_rolling_stones['release_date'].min())"
   ]
  },
  {
   "cell_type": "code",
   "execution_count": 5,
   "metadata": {},
   "outputs": [
    {
     "name": "stdout",
     "output_type": "stream",
     "text": [
      "Data final:  2022-06-10 00:00:00\n"
     ]
    }
   ],
   "source": [
    "print(\"Data final: \", df_rolling_stones['release_date'].max())"
   ]
  },
  {
   "cell_type": "markdown",
   "metadata": {},
   "source": [
    "Vamos analisar se existe dados null na nossa base, pois elas interferem muito na nossa analise."
   ]
  },
  {
   "cell_type": "code",
   "execution_count": 6,
   "metadata": {},
   "outputs": [
    {
     "data": {
      "text/plain": [
       "name                0\n",
       "album               0\n",
       "release_date        0\n",
       "track_number        0\n",
       "acousticness        0\n",
       "danceability        0\n",
       "energy              0\n",
       "instrumentalness    0\n",
       "liveness            0\n",
       "loudness            0\n",
       "speechiness         0\n",
       "tempo               0\n",
       "valence             0\n",
       "popularity          0\n",
       "duration_ms         0\n",
       "dtype: int64"
      ]
     },
     "execution_count": 6,
     "metadata": {},
     "output_type": "execute_result"
    }
   ],
   "source": [
    "df_rolling_stones.isnull().sum()"
   ]
  },
  {
   "cell_type": "markdown",
   "metadata": {},
   "source": [
    "Agora iremos visualizar se possue dados duplicados na nossa base."
   ]
  },
  {
   "cell_type": "code",
   "execution_count": 7,
   "metadata": {},
   "outputs": [
    {
     "data": {
      "text/plain": [
       "6"
      ]
     },
     "execution_count": 7,
     "metadata": {},
     "output_type": "execute_result"
    }
   ],
   "source": [
    "df_rolling_stones.duplicated().sum()"
   ]
  },
  {
   "cell_type": "markdown",
   "metadata": {},
   "source": [
    "Agora iremos verificar quais são essas linhas duplicadas."
   ]
  },
  {
   "cell_type": "code",
   "execution_count": 8,
   "metadata": {},
   "outputs": [
    {
     "data": {
      "text/html": [
       "<div>\n",
       "<style scoped>\n",
       "    .dataframe tbody tr th:only-of-type {\n",
       "        vertical-align: middle;\n",
       "    }\n",
       "\n",
       "    .dataframe tbody tr th {\n",
       "        vertical-align: top;\n",
       "    }\n",
       "\n",
       "    .dataframe thead th {\n",
       "        text-align: right;\n",
       "    }\n",
       "</style>\n",
       "<table border=\"1\" class=\"dataframe\">\n",
       "  <thead>\n",
       "    <tr style=\"text-align: right;\">\n",
       "      <th></th>\n",
       "      <th>name</th>\n",
       "      <th>album</th>\n",
       "      <th>release_date</th>\n",
       "      <th>track_number</th>\n",
       "      <th>acousticness</th>\n",
       "      <th>danceability</th>\n",
       "      <th>energy</th>\n",
       "      <th>instrumentalness</th>\n",
       "      <th>liveness</th>\n",
       "      <th>loudness</th>\n",
       "      <th>speechiness</th>\n",
       "      <th>tempo</th>\n",
       "      <th>valence</th>\n",
       "      <th>popularity</th>\n",
       "      <th>duration_ms</th>\n",
       "    </tr>\n",
       "  </thead>\n",
       "  <tbody>\n",
       "    <tr>\n",
       "      <th>928</th>\n",
       "      <td>Some Girls - Remastered</td>\n",
       "      <td>Some Girls (Deluxe Version)</td>\n",
       "      <td>1978-06-09</td>\n",
       "      <td>4</td>\n",
       "      <td>0.5270</td>\n",
       "      <td>0.474</td>\n",
       "      <td>0.938</td>\n",
       "      <td>0.520000</td>\n",
       "      <td>0.299</td>\n",
       "      <td>-2643.0</td>\n",
       "      <td>0.0898</td>\n",
       "      <td>71995.00</td>\n",
       "      <td>0.505</td>\n",
       "      <td>21</td>\n",
       "      <td>276933</td>\n",
       "    </tr>\n",
       "    <tr>\n",
       "      <th>929</th>\n",
       "      <td>Lies - Remastered</td>\n",
       "      <td>Some Girls (Deluxe Version)</td>\n",
       "      <td>1978-06-09</td>\n",
       "      <td>5</td>\n",
       "      <td>0.4370</td>\n",
       "      <td>0.382</td>\n",
       "      <td>0.997</td>\n",
       "      <td>0.950000</td>\n",
       "      <td>0.617</td>\n",
       "      <td>-1568.0</td>\n",
       "      <td>0.1880</td>\n",
       "      <td>162428.00</td>\n",
       "      <td>0.563</td>\n",
       "      <td>16</td>\n",
       "      <td>191266</td>\n",
       "    </tr>\n",
       "    <tr>\n",
       "      <th>935</th>\n",
       "      <td>Claudine</td>\n",
       "      <td>Some Girls (Deluxe Version)</td>\n",
       "      <td>1978-06-09</td>\n",
       "      <td>1</td>\n",
       "      <td>0.0144</td>\n",
       "      <td>0.439</td>\n",
       "      <td>0.977</td>\n",
       "      <td>0.022100</td>\n",
       "      <td>0.383</td>\n",
       "      <td>-4386.0</td>\n",
       "      <td>0.1280</td>\n",
       "      <td>105124.00</td>\n",
       "      <td>0.364</td>\n",
       "      <td>17</td>\n",
       "      <td>222253</td>\n",
       "    </tr>\n",
       "    <tr>\n",
       "      <th>939</th>\n",
       "      <td>No Spare Parts</td>\n",
       "      <td>Some Girls (Deluxe Version)</td>\n",
       "      <td>1978-06-09</td>\n",
       "      <td>5</td>\n",
       "      <td>0.2400</td>\n",
       "      <td>0.594</td>\n",
       "      <td>0.762</td>\n",
       "      <td>0.000015</td>\n",
       "      <td>0.712</td>\n",
       "      <td>-5145.0</td>\n",
       "      <td>0.0292</td>\n",
       "      <td>72648.00</td>\n",
       "      <td>0.540</td>\n",
       "      <td>19</td>\n",
       "      <td>270466</td>\n",
       "    </tr>\n",
       "    <tr>\n",
       "      <th>940</th>\n",
       "      <td>Don't Be A Stranger</td>\n",
       "      <td>Some Girls (Deluxe Version)</td>\n",
       "      <td>1978-06-09</td>\n",
       "      <td>6</td>\n",
       "      <td>0.0610</td>\n",
       "      <td>0.720</td>\n",
       "      <td>0.867</td>\n",
       "      <td>0.029700</td>\n",
       "      <td>0.385</td>\n",
       "      <td>-5871.0</td>\n",
       "      <td>0.0390</td>\n",
       "      <td>127329.00</td>\n",
       "      <td>0.847</td>\n",
       "      <td>15</td>\n",
       "      <td>246266</td>\n",
       "    </tr>\n",
       "    <tr>\n",
       "      <th>946</th>\n",
       "      <td>Petrol Blues</td>\n",
       "      <td>Some Girls (Deluxe Version)</td>\n",
       "      <td>1978-06-09</td>\n",
       "      <td>12</td>\n",
       "      <td>0.7690</td>\n",
       "      <td>0.835</td>\n",
       "      <td>0.621</td>\n",
       "      <td>0.114000</td>\n",
       "      <td>0.116</td>\n",
       "      <td>-8007.0</td>\n",
       "      <td>0.0406</td>\n",
       "      <td>115.87</td>\n",
       "      <td>0.336</td>\n",
       "      <td>13</td>\n",
       "      <td>95626</td>\n",
       "    </tr>\n",
       "  </tbody>\n",
       "</table>\n",
       "</div>"
      ],
      "text/plain": [
       "                        name                        album release_date  \\\n",
       "928  Some Girls - Remastered  Some Girls (Deluxe Version)   1978-06-09   \n",
       "929        Lies - Remastered  Some Girls (Deluxe Version)   1978-06-09   \n",
       "935                 Claudine  Some Girls (Deluxe Version)   1978-06-09   \n",
       "939           No Spare Parts  Some Girls (Deluxe Version)   1978-06-09   \n",
       "940      Don't Be A Stranger  Some Girls (Deluxe Version)   1978-06-09   \n",
       "946             Petrol Blues  Some Girls (Deluxe Version)   1978-06-09   \n",
       "\n",
       "     track_number  acousticness  danceability  energy  instrumentalness  \\\n",
       "928             4        0.5270         0.474   0.938          0.520000   \n",
       "929             5        0.4370         0.382   0.997          0.950000   \n",
       "935             1        0.0144         0.439   0.977          0.022100   \n",
       "939             5        0.2400         0.594   0.762          0.000015   \n",
       "940             6        0.0610         0.720   0.867          0.029700   \n",
       "946            12        0.7690         0.835   0.621          0.114000   \n",
       "\n",
       "     liveness  loudness  speechiness      tempo  valence  popularity  \\\n",
       "928     0.299   -2643.0       0.0898   71995.00    0.505          21   \n",
       "929     0.617   -1568.0       0.1880  162428.00    0.563          16   \n",
       "935     0.383   -4386.0       0.1280  105124.00    0.364          17   \n",
       "939     0.712   -5145.0       0.0292   72648.00    0.540          19   \n",
       "940     0.385   -5871.0       0.0390  127329.00    0.847          15   \n",
       "946     0.116   -8007.0       0.0406     115.87    0.336          13   \n",
       "\n",
       "     duration_ms  \n",
       "928       276933  \n",
       "929       191266  \n",
       "935       222253  \n",
       "939       270466  \n",
       "940       246266  \n",
       "946        95626  "
      ]
     },
     "execution_count": 8,
     "metadata": {},
     "output_type": "execute_result"
    }
   ],
   "source": [
    "df_rolling_stones[df_rolling_stones.duplicated()]"
   ]
  },
  {
   "cell_type": "markdown",
   "metadata": {},
   "source": [
    "Um álbum pode conter várias músicas, e isso, neste contexto, não impacta diretamente nossa análise. No entanto, é fundamental sempre realizar essa validação para garantir a consistência dos dados."
   ]
  },
  {
   "cell_type": "markdown",
   "metadata": {},
   "source": [
    "## Análise Exploratória"
   ]
  },
  {
   "cell_type": "code",
   "execution_count": 9,
   "metadata": {},
   "outputs": [
    {
     "data": {
      "text/html": [
       "<div>\n",
       "<style scoped>\n",
       "    .dataframe tbody tr th:only-of-type {\n",
       "        vertical-align: middle;\n",
       "    }\n",
       "\n",
       "    .dataframe tbody tr th {\n",
       "        vertical-align: top;\n",
       "    }\n",
       "\n",
       "    .dataframe thead th {\n",
       "        text-align: right;\n",
       "    }\n",
       "</style>\n",
       "<table border=\"1\" class=\"dataframe\">\n",
       "  <thead>\n",
       "    <tr style=\"text-align: right;\">\n",
       "      <th></th>\n",
       "      <th>release_date</th>\n",
       "      <th>track_number</th>\n",
       "      <th>acousticness</th>\n",
       "      <th>danceability</th>\n",
       "      <th>energy</th>\n",
       "      <th>instrumentalness</th>\n",
       "      <th>liveness</th>\n",
       "      <th>loudness</th>\n",
       "      <th>speechiness</th>\n",
       "      <th>tempo</th>\n",
       "      <th>valence</th>\n",
       "      <th>popularity</th>\n",
       "      <th>duration_ms</th>\n",
       "    </tr>\n",
       "  </thead>\n",
       "  <tbody>\n",
       "    <tr>\n",
       "      <th>count</th>\n",
       "      <td>1610</td>\n",
       "      <td>1610.000000</td>\n",
       "      <td>1610.000000</td>\n",
       "      <td>1610.000000</td>\n",
       "      <td>1610.000000</td>\n",
       "      <td>1610.000000</td>\n",
       "      <td>1610.00000</td>\n",
       "      <td>1610.000000</td>\n",
       "      <td>1610.000000</td>\n",
       "      <td>1610.000000</td>\n",
       "      <td>1610.000000</td>\n",
       "      <td>1610.000000</td>\n",
       "      <td>1610.000000</td>\n",
       "    </tr>\n",
       "    <tr>\n",
       "      <th>mean</th>\n",
       "      <td>1992-04-23 12:57:14.534161536</td>\n",
       "      <td>8.613665</td>\n",
       "      <td>0.250475</td>\n",
       "      <td>0.468860</td>\n",
       "      <td>0.792352</td>\n",
       "      <td>0.164170</td>\n",
       "      <td>0.49173</td>\n",
       "      <td>-6406.640075</td>\n",
       "      <td>0.069512</td>\n",
       "      <td>114078.725261</td>\n",
       "      <td>0.582165</td>\n",
       "      <td>20.788199</td>\n",
       "      <td>257736.488199</td>\n",
       "    </tr>\n",
       "    <tr>\n",
       "      <th>min</th>\n",
       "      <td>1964-04-16 00:00:00</td>\n",
       "      <td>1.000000</td>\n",
       "      <td>0.000009</td>\n",
       "      <td>0.104000</td>\n",
       "      <td>0.141000</td>\n",
       "      <td>0.000000</td>\n",
       "      <td>0.02190</td>\n",
       "      <td>-24408.000000</td>\n",
       "      <td>0.023200</td>\n",
       "      <td>65.990000</td>\n",
       "      <td>0.000000</td>\n",
       "      <td>0.000000</td>\n",
       "      <td>21000.000000</td>\n",
       "    </tr>\n",
       "    <tr>\n",
       "      <th>25%</th>\n",
       "      <td>1970-09-04 00:00:00</td>\n",
       "      <td>4.000000</td>\n",
       "      <td>0.058350</td>\n",
       "      <td>0.362250</td>\n",
       "      <td>0.674000</td>\n",
       "      <td>0.000219</td>\n",
       "      <td>0.15300</td>\n",
       "      <td>-8829.500000</td>\n",
       "      <td>0.036500</td>\n",
       "      <td>98996.500000</td>\n",
       "      <td>0.404250</td>\n",
       "      <td>13.000000</td>\n",
       "      <td>190613.000000</td>\n",
       "    </tr>\n",
       "    <tr>\n",
       "      <th>50%</th>\n",
       "      <td>1986-03-24 00:00:00</td>\n",
       "      <td>7.000000</td>\n",
       "      <td>0.183000</td>\n",
       "      <td>0.458000</td>\n",
       "      <td>0.848500</td>\n",
       "      <td>0.013750</td>\n",
       "      <td>0.37950</td>\n",
       "      <td>-6179.000000</td>\n",
       "      <td>0.051200</td>\n",
       "      <td>120319.000000</td>\n",
       "      <td>0.583000</td>\n",
       "      <td>20.000000</td>\n",
       "      <td>243093.000000</td>\n",
       "    </tr>\n",
       "    <tr>\n",
       "      <th>75%</th>\n",
       "      <td>2017-12-01 00:00:00</td>\n",
       "      <td>11.000000</td>\n",
       "      <td>0.403750</td>\n",
       "      <td>0.578000</td>\n",
       "      <td>0.945000</td>\n",
       "      <td>0.179000</td>\n",
       "      <td>0.89375</td>\n",
       "      <td>-4254.750000</td>\n",
       "      <td>0.086600</td>\n",
       "      <td>140853.750000</td>\n",
       "      <td>0.778000</td>\n",
       "      <td>27.000000</td>\n",
       "      <td>295319.750000</td>\n",
       "    </tr>\n",
       "    <tr>\n",
       "      <th>max</th>\n",
       "      <td>2022-06-10 00:00:00</td>\n",
       "      <td>47.000000</td>\n",
       "      <td>0.994000</td>\n",
       "      <td>0.887000</td>\n",
       "      <td>0.999000</td>\n",
       "      <td>0.996000</td>\n",
       "      <td>0.99800</td>\n",
       "      <td>-2.310000</td>\n",
       "      <td>0.624000</td>\n",
       "      <td>216304.000000</td>\n",
       "      <td>0.974000</td>\n",
       "      <td>80.000000</td>\n",
       "      <td>981866.000000</td>\n",
       "    </tr>\n",
       "    <tr>\n",
       "      <th>std</th>\n",
       "      <td>NaN</td>\n",
       "      <td>6.560220</td>\n",
       "      <td>0.227397</td>\n",
       "      <td>0.141775</td>\n",
       "      <td>0.179886</td>\n",
       "      <td>0.276249</td>\n",
       "      <td>0.34910</td>\n",
       "      <td>3474.285941</td>\n",
       "      <td>0.051631</td>\n",
       "      <td>46196.602233</td>\n",
       "      <td>0.231253</td>\n",
       "      <td>12.426859</td>\n",
       "      <td>108333.474920</td>\n",
       "    </tr>\n",
       "  </tbody>\n",
       "</table>\n",
       "</div>"
      ],
      "text/plain": [
       "                        release_date  track_number  acousticness  \\\n",
       "count                           1610   1610.000000   1610.000000   \n",
       "mean   1992-04-23 12:57:14.534161536      8.613665      0.250475   \n",
       "min              1964-04-16 00:00:00      1.000000      0.000009   \n",
       "25%              1970-09-04 00:00:00      4.000000      0.058350   \n",
       "50%              1986-03-24 00:00:00      7.000000      0.183000   \n",
       "75%              2017-12-01 00:00:00     11.000000      0.403750   \n",
       "max              2022-06-10 00:00:00     47.000000      0.994000   \n",
       "std                              NaN      6.560220      0.227397   \n",
       "\n",
       "       danceability       energy  instrumentalness    liveness      loudness  \\\n",
       "count   1610.000000  1610.000000       1610.000000  1610.00000   1610.000000   \n",
       "mean       0.468860     0.792352          0.164170     0.49173  -6406.640075   \n",
       "min        0.104000     0.141000          0.000000     0.02190 -24408.000000   \n",
       "25%        0.362250     0.674000          0.000219     0.15300  -8829.500000   \n",
       "50%        0.458000     0.848500          0.013750     0.37950  -6179.000000   \n",
       "75%        0.578000     0.945000          0.179000     0.89375  -4254.750000   \n",
       "max        0.887000     0.999000          0.996000     0.99800     -2.310000   \n",
       "std        0.141775     0.179886          0.276249     0.34910   3474.285941   \n",
       "\n",
       "       speechiness          tempo      valence   popularity    duration_ms  \n",
       "count  1610.000000    1610.000000  1610.000000  1610.000000    1610.000000  \n",
       "mean      0.069512  114078.725261     0.582165    20.788199  257736.488199  \n",
       "min       0.023200      65.990000     0.000000     0.000000   21000.000000  \n",
       "25%       0.036500   98996.500000     0.404250    13.000000  190613.000000  \n",
       "50%       0.051200  120319.000000     0.583000    20.000000  243093.000000  \n",
       "75%       0.086600  140853.750000     0.778000    27.000000  295319.750000  \n",
       "max       0.624000  216304.000000     0.974000    80.000000  981866.000000  \n",
       "std       0.051631   46196.602233     0.231253    12.426859  108333.474920  "
      ]
     },
     "execution_count": 9,
     "metadata": {},
     "output_type": "execute_result"
    }
   ],
   "source": [
    "df_rolling_stones.describe()"
   ]
  },
  {
   "cell_type": "markdown",
   "metadata": {},
   "source": [
    "Conseguimos perceber que a coluna *duration_ms* possue valores muito grande, sendo assim, seria mais fácil analisarmos ela com a medida em minutos."
   ]
  },
  {
   "cell_type": "code",
   "execution_count": 10,
   "metadata": {},
   "outputs": [
    {
     "data": {
      "text/html": [
       "<div>\n",
       "<style scoped>\n",
       "    .dataframe tbody tr th:only-of-type {\n",
       "        vertical-align: middle;\n",
       "    }\n",
       "\n",
       "    .dataframe tbody tr th {\n",
       "        vertical-align: top;\n",
       "    }\n",
       "\n",
       "    .dataframe thead th {\n",
       "        text-align: right;\n",
       "    }\n",
       "</style>\n",
       "<table border=\"1\" class=\"dataframe\">\n",
       "  <thead>\n",
       "    <tr style=\"text-align: right;\">\n",
       "      <th></th>\n",
       "      <th>name</th>\n",
       "      <th>album</th>\n",
       "      <th>release_date</th>\n",
       "      <th>track_number</th>\n",
       "      <th>acousticness</th>\n",
       "      <th>danceability</th>\n",
       "      <th>energy</th>\n",
       "      <th>instrumentalness</th>\n",
       "      <th>liveness</th>\n",
       "      <th>loudness</th>\n",
       "      <th>speechiness</th>\n",
       "      <th>tempo</th>\n",
       "      <th>valence</th>\n",
       "      <th>popularity</th>\n",
       "      <th>duration_ms</th>\n",
       "      <th>duration_min</th>\n",
       "    </tr>\n",
       "  </thead>\n",
       "  <tbody>\n",
       "    <tr>\n",
       "      <th>0</th>\n",
       "      <td>Concert Intro Music - Live</td>\n",
       "      <td>Licked Live In NYC</td>\n",
       "      <td>2022-06-10</td>\n",
       "      <td>1</td>\n",
       "      <td>0.0824</td>\n",
       "      <td>0.463</td>\n",
       "      <td>0.993</td>\n",
       "      <td>0.996000</td>\n",
       "      <td>0.932</td>\n",
       "      <td>-12913.0</td>\n",
       "      <td>0.1100</td>\n",
       "      <td>118001.0</td>\n",
       "      <td>0.0302</td>\n",
       "      <td>33</td>\n",
       "      <td>48640</td>\n",
       "      <td>0.810667</td>\n",
       "    </tr>\n",
       "    <tr>\n",
       "      <th>1</th>\n",
       "      <td>Street Fighting Man - Live</td>\n",
       "      <td>Licked Live In NYC</td>\n",
       "      <td>2022-06-10</td>\n",
       "      <td>2</td>\n",
       "      <td>0.4370</td>\n",
       "      <td>0.326</td>\n",
       "      <td>0.965</td>\n",
       "      <td>0.233000</td>\n",
       "      <td>0.961</td>\n",
       "      <td>-4803.0</td>\n",
       "      <td>0.0759</td>\n",
       "      <td>131455.0</td>\n",
       "      <td>0.3180</td>\n",
       "      <td>34</td>\n",
       "      <td>253173</td>\n",
       "      <td>4.219550</td>\n",
       "    </tr>\n",
       "    <tr>\n",
       "      <th>2</th>\n",
       "      <td>Start Me Up - Live</td>\n",
       "      <td>Licked Live In NYC</td>\n",
       "      <td>2022-06-10</td>\n",
       "      <td>3</td>\n",
       "      <td>0.4160</td>\n",
       "      <td>0.386</td>\n",
       "      <td>0.969</td>\n",
       "      <td>0.400000</td>\n",
       "      <td>0.956</td>\n",
       "      <td>-4936.0</td>\n",
       "      <td>0.1150</td>\n",
       "      <td>130066.0</td>\n",
       "      <td>0.3130</td>\n",
       "      <td>34</td>\n",
       "      <td>263160</td>\n",
       "      <td>4.386000</td>\n",
       "    </tr>\n",
       "    <tr>\n",
       "      <th>3</th>\n",
       "      <td>If You Can't Rock Me - Live</td>\n",
       "      <td>Licked Live In NYC</td>\n",
       "      <td>2022-06-10</td>\n",
       "      <td>4</td>\n",
       "      <td>0.5670</td>\n",
       "      <td>0.369</td>\n",
       "      <td>0.985</td>\n",
       "      <td>0.000107</td>\n",
       "      <td>0.895</td>\n",
       "      <td>-5535.0</td>\n",
       "      <td>0.1930</td>\n",
       "      <td>132994.0</td>\n",
       "      <td>0.1470</td>\n",
       "      <td>32</td>\n",
       "      <td>305880</td>\n",
       "      <td>5.098000</td>\n",
       "    </tr>\n",
       "    <tr>\n",
       "      <th>4</th>\n",
       "      <td>Don’t Stop - Live</td>\n",
       "      <td>Licked Live In NYC</td>\n",
       "      <td>2022-06-10</td>\n",
       "      <td>5</td>\n",
       "      <td>0.4000</td>\n",
       "      <td>0.303</td>\n",
       "      <td>0.969</td>\n",
       "      <td>0.055900</td>\n",
       "      <td>0.966</td>\n",
       "      <td>-5098.0</td>\n",
       "      <td>0.0930</td>\n",
       "      <td>130533.0</td>\n",
       "      <td>0.2060</td>\n",
       "      <td>32</td>\n",
       "      <td>305106</td>\n",
       "      <td>5.085100</td>\n",
       "    </tr>\n",
       "  </tbody>\n",
       "</table>\n",
       "</div>"
      ],
      "text/plain": [
       "                          name               album release_date  track_number  \\\n",
       "0   Concert Intro Music - Live  Licked Live In NYC   2022-06-10             1   \n",
       "1   Street Fighting Man - Live  Licked Live In NYC   2022-06-10             2   \n",
       "2           Start Me Up - Live  Licked Live In NYC   2022-06-10             3   \n",
       "3  If You Can't Rock Me - Live  Licked Live In NYC   2022-06-10             4   \n",
       "4            Don’t Stop - Live  Licked Live In NYC   2022-06-10             5   \n",
       "\n",
       "   acousticness  danceability  energy  instrumentalness  liveness  loudness  \\\n",
       "0        0.0824         0.463   0.993          0.996000     0.932  -12913.0   \n",
       "1        0.4370         0.326   0.965          0.233000     0.961   -4803.0   \n",
       "2        0.4160         0.386   0.969          0.400000     0.956   -4936.0   \n",
       "3        0.5670         0.369   0.985          0.000107     0.895   -5535.0   \n",
       "4        0.4000         0.303   0.969          0.055900     0.966   -5098.0   \n",
       "\n",
       "   speechiness     tempo  valence  popularity  duration_ms  duration_min  \n",
       "0       0.1100  118001.0   0.0302          33        48640      0.810667  \n",
       "1       0.0759  131455.0   0.3180          34       253173      4.219550  \n",
       "2       0.1150  130066.0   0.3130          34       263160      4.386000  \n",
       "3       0.1930  132994.0   0.1470          32       305880      5.098000  \n",
       "4       0.0930  130533.0   0.2060          32       305106      5.085100  "
      ]
     },
     "execution_count": 10,
     "metadata": {},
     "output_type": "execute_result"
    }
   ],
   "source": [
    "df_rolling_stones['duration_min'] = df_rolling_stones['duration_ms']/60000\n",
    "\n",
    "df_rolling_stones.head()"
   ]
  },
  {
   "cell_type": "code",
   "execution_count": 11,
   "metadata": {},
   "outputs": [
    {
     "data": {
      "text/html": [
       "<div>\n",
       "<style scoped>\n",
       "    .dataframe tbody tr th:only-of-type {\n",
       "        vertical-align: middle;\n",
       "    }\n",
       "\n",
       "    .dataframe tbody tr th {\n",
       "        vertical-align: top;\n",
       "    }\n",
       "\n",
       "    .dataframe thead th {\n",
       "        text-align: right;\n",
       "    }\n",
       "</style>\n",
       "<table border=\"1\" class=\"dataframe\">\n",
       "  <thead>\n",
       "    <tr style=\"text-align: right;\">\n",
       "      <th></th>\n",
       "      <th>release_date</th>\n",
       "      <th>track_number</th>\n",
       "      <th>acousticness</th>\n",
       "      <th>danceability</th>\n",
       "      <th>energy</th>\n",
       "      <th>instrumentalness</th>\n",
       "      <th>liveness</th>\n",
       "      <th>loudness</th>\n",
       "      <th>speechiness</th>\n",
       "      <th>tempo</th>\n",
       "      <th>valence</th>\n",
       "      <th>popularity</th>\n",
       "      <th>duration_ms</th>\n",
       "      <th>duration_min</th>\n",
       "    </tr>\n",
       "  </thead>\n",
       "  <tbody>\n",
       "    <tr>\n",
       "      <th>count</th>\n",
       "      <td>1610</td>\n",
       "      <td>1610.000000</td>\n",
       "      <td>1610.000000</td>\n",
       "      <td>1610.000000</td>\n",
       "      <td>1610.000000</td>\n",
       "      <td>1610.000000</td>\n",
       "      <td>1610.00000</td>\n",
       "      <td>1610.000000</td>\n",
       "      <td>1610.000000</td>\n",
       "      <td>1610.000000</td>\n",
       "      <td>1610.000000</td>\n",
       "      <td>1610.000000</td>\n",
       "      <td>1610.000000</td>\n",
       "      <td>1610.000000</td>\n",
       "    </tr>\n",
       "    <tr>\n",
       "      <th>mean</th>\n",
       "      <td>1992-04-23 12:57:14.534161536</td>\n",
       "      <td>8.613665</td>\n",
       "      <td>0.250475</td>\n",
       "      <td>0.468860</td>\n",
       "      <td>0.792352</td>\n",
       "      <td>0.164170</td>\n",
       "      <td>0.49173</td>\n",
       "      <td>-6406.640075</td>\n",
       "      <td>0.069512</td>\n",
       "      <td>114078.725261</td>\n",
       "      <td>0.582165</td>\n",
       "      <td>20.788199</td>\n",
       "      <td>257736.488199</td>\n",
       "      <td>4.295608</td>\n",
       "    </tr>\n",
       "    <tr>\n",
       "      <th>min</th>\n",
       "      <td>1964-04-16 00:00:00</td>\n",
       "      <td>1.000000</td>\n",
       "      <td>0.000009</td>\n",
       "      <td>0.104000</td>\n",
       "      <td>0.141000</td>\n",
       "      <td>0.000000</td>\n",
       "      <td>0.02190</td>\n",
       "      <td>-24408.000000</td>\n",
       "      <td>0.023200</td>\n",
       "      <td>65.990000</td>\n",
       "      <td>0.000000</td>\n",
       "      <td>0.000000</td>\n",
       "      <td>21000.000000</td>\n",
       "      <td>0.350000</td>\n",
       "    </tr>\n",
       "    <tr>\n",
       "      <th>25%</th>\n",
       "      <td>1970-09-04 00:00:00</td>\n",
       "      <td>4.000000</td>\n",
       "      <td>0.058350</td>\n",
       "      <td>0.362250</td>\n",
       "      <td>0.674000</td>\n",
       "      <td>0.000219</td>\n",
       "      <td>0.15300</td>\n",
       "      <td>-8829.500000</td>\n",
       "      <td>0.036500</td>\n",
       "      <td>98996.500000</td>\n",
       "      <td>0.404250</td>\n",
       "      <td>13.000000</td>\n",
       "      <td>190613.000000</td>\n",
       "      <td>3.176883</td>\n",
       "    </tr>\n",
       "    <tr>\n",
       "      <th>50%</th>\n",
       "      <td>1986-03-24 00:00:00</td>\n",
       "      <td>7.000000</td>\n",
       "      <td>0.183000</td>\n",
       "      <td>0.458000</td>\n",
       "      <td>0.848500</td>\n",
       "      <td>0.013750</td>\n",
       "      <td>0.37950</td>\n",
       "      <td>-6179.000000</td>\n",
       "      <td>0.051200</td>\n",
       "      <td>120319.000000</td>\n",
       "      <td>0.583000</td>\n",
       "      <td>20.000000</td>\n",
       "      <td>243093.000000</td>\n",
       "      <td>4.051550</td>\n",
       "    </tr>\n",
       "    <tr>\n",
       "      <th>75%</th>\n",
       "      <td>2017-12-01 00:00:00</td>\n",
       "      <td>11.000000</td>\n",
       "      <td>0.403750</td>\n",
       "      <td>0.578000</td>\n",
       "      <td>0.945000</td>\n",
       "      <td>0.179000</td>\n",
       "      <td>0.89375</td>\n",
       "      <td>-4254.750000</td>\n",
       "      <td>0.086600</td>\n",
       "      <td>140853.750000</td>\n",
       "      <td>0.778000</td>\n",
       "      <td>27.000000</td>\n",
       "      <td>295319.750000</td>\n",
       "      <td>4.921996</td>\n",
       "    </tr>\n",
       "    <tr>\n",
       "      <th>max</th>\n",
       "      <td>2022-06-10 00:00:00</td>\n",
       "      <td>47.000000</td>\n",
       "      <td>0.994000</td>\n",
       "      <td>0.887000</td>\n",
       "      <td>0.999000</td>\n",
       "      <td>0.996000</td>\n",
       "      <td>0.99800</td>\n",
       "      <td>-2.310000</td>\n",
       "      <td>0.624000</td>\n",
       "      <td>216304.000000</td>\n",
       "      <td>0.974000</td>\n",
       "      <td>80.000000</td>\n",
       "      <td>981866.000000</td>\n",
       "      <td>16.364433</td>\n",
       "    </tr>\n",
       "    <tr>\n",
       "      <th>std</th>\n",
       "      <td>NaN</td>\n",
       "      <td>6.560220</td>\n",
       "      <td>0.227397</td>\n",
       "      <td>0.141775</td>\n",
       "      <td>0.179886</td>\n",
       "      <td>0.276249</td>\n",
       "      <td>0.34910</td>\n",
       "      <td>3474.285941</td>\n",
       "      <td>0.051631</td>\n",
       "      <td>46196.602233</td>\n",
       "      <td>0.231253</td>\n",
       "      <td>12.426859</td>\n",
       "      <td>108333.474920</td>\n",
       "      <td>1.805558</td>\n",
       "    </tr>\n",
       "  </tbody>\n",
       "</table>\n",
       "</div>"
      ],
      "text/plain": [
       "                        release_date  track_number  acousticness  \\\n",
       "count                           1610   1610.000000   1610.000000   \n",
       "mean   1992-04-23 12:57:14.534161536      8.613665      0.250475   \n",
       "min              1964-04-16 00:00:00      1.000000      0.000009   \n",
       "25%              1970-09-04 00:00:00      4.000000      0.058350   \n",
       "50%              1986-03-24 00:00:00      7.000000      0.183000   \n",
       "75%              2017-12-01 00:00:00     11.000000      0.403750   \n",
       "max              2022-06-10 00:00:00     47.000000      0.994000   \n",
       "std                              NaN      6.560220      0.227397   \n",
       "\n",
       "       danceability       energy  instrumentalness    liveness      loudness  \\\n",
       "count   1610.000000  1610.000000       1610.000000  1610.00000   1610.000000   \n",
       "mean       0.468860     0.792352          0.164170     0.49173  -6406.640075   \n",
       "min        0.104000     0.141000          0.000000     0.02190 -24408.000000   \n",
       "25%        0.362250     0.674000          0.000219     0.15300  -8829.500000   \n",
       "50%        0.458000     0.848500          0.013750     0.37950  -6179.000000   \n",
       "75%        0.578000     0.945000          0.179000     0.89375  -4254.750000   \n",
       "max        0.887000     0.999000          0.996000     0.99800     -2.310000   \n",
       "std        0.141775     0.179886          0.276249     0.34910   3474.285941   \n",
       "\n",
       "       speechiness          tempo      valence   popularity    duration_ms  \\\n",
       "count  1610.000000    1610.000000  1610.000000  1610.000000    1610.000000   \n",
       "mean      0.069512  114078.725261     0.582165    20.788199  257736.488199   \n",
       "min       0.023200      65.990000     0.000000     0.000000   21000.000000   \n",
       "25%       0.036500   98996.500000     0.404250    13.000000  190613.000000   \n",
       "50%       0.051200  120319.000000     0.583000    20.000000  243093.000000   \n",
       "75%       0.086600  140853.750000     0.778000    27.000000  295319.750000   \n",
       "max       0.624000  216304.000000     0.974000    80.000000  981866.000000   \n",
       "std       0.051631   46196.602233     0.231253    12.426859  108333.474920   \n",
       "\n",
       "       duration_min  \n",
       "count   1610.000000  \n",
       "mean       4.295608  \n",
       "min        0.350000  \n",
       "25%        3.176883  \n",
       "50%        4.051550  \n",
       "75%        4.921996  \n",
       "max       16.364433  \n",
       "std        1.805558  "
      ]
     },
     "execution_count": 11,
     "metadata": {},
     "output_type": "execute_result"
    }
   ],
   "source": [
    "df_rolling_stones.describe()"
   ]
  },
  {
   "cell_type": "markdown",
   "metadata": {},
   "source": [
    "Agora iremos análisar a duração em minutos por albúm."
   ]
  },
  {
   "cell_type": "code",
   "execution_count": 12,
   "metadata": {},
   "outputs": [
    {
     "data": {
      "text/plain": [
       "album\n",
       "12 X 5                              2.682068\n",
       "12 x 5                              2.682772\n",
       "A Bigger Bang (2009 Re-Mastered)    4.016356\n",
       "A Bigger Bang (Live)                5.176630\n",
       "Aftermath                           3.899185\n",
       "                                      ...   \n",
       "Undercover                          4.492750\n",
       "Undercover (2009 Re-Mastered)       4.497595\n",
       "Voodoo Lounge (Remastered 2009)     4.118779\n",
       "Voodoo Lounge Uncut (Live)          5.248507\n",
       "got LIVE if you want it!            2.762532\n",
       "Name: duration_min, Length: 90, dtype: float64"
      ]
     },
     "execution_count": 12,
     "metadata": {},
     "output_type": "execute_result"
    }
   ],
   "source": [
    "df_rolling_stones.groupby('album')['duration_min'].mean()"
   ]
  },
  {
   "cell_type": "markdown",
   "metadata": {},
   "source": [
    "Agora iremos construir um gráfico de barras, para conseguirmos visualizar melhor qual a duração de cada álbum, e qual seria o de maior duração ou o de menor."
   ]
  },
  {
   "cell_type": "code",
   "execution_count": 13,
   "metadata": {},
   "outputs": [],
   "source": [
    "df_maior_duracao_album = df_rolling_stones.groupby('album')['duration_min'].mean().sort_values(ascending=False)"
   ]
  },
  {
   "cell_type": "code",
   "execution_count": 14,
   "metadata": {},
   "outputs": [
    {
     "data": {
      "text/plain": [
       "album\n",
       "Havana Moon (Live)                                                      6.632819\n",
       "Bridges To Bremen (Live)                                                6.332265\n",
       "Jamming With Edward                                                     6.042794\n",
       "Live At The Checkerboard Lounge                                         6.009647\n",
       "Totally Stripped - Paris (Live)                                         5.947430\n",
       "                                                                          ...   \n",
       "Out Of Our Heads (UK)                                                   2.464643\n",
       "Out Of Our Heads (UK Sequence)                                          2.449274\n",
       "December's Children (and everybody's)                                   2.408976\n",
       "December’s Children (And Everybody’s)                                   2.408532\n",
       "Live 1965: Music From Charlie Is My Darling (Live From England/1965)    2.146082\n",
       "Name: duration_min, Length: 90, dtype: float64"
      ]
     },
     "execution_count": 14,
     "metadata": {},
     "output_type": "execute_result"
    }
   ],
   "source": [
    "df_maior_duracao_album"
   ]
  },
  {
   "cell_type": "code",
   "execution_count": 15,
   "metadata": {},
   "outputs": [
    {
     "data": {
      "text/plain": [
       "<function matplotlib.pyplot.show(close=None, block=None)>"
      ]
     },
     "execution_count": 15,
     "metadata": {},
     "output_type": "execute_result"
    },
    {
     "data": {
      "image/png": "[encoded data removed]",
      "text/plain": [
       "<Figure size 640x480 with 1 Axes>"
      ]
     },
     "metadata": {},
     "output_type": "display_data"
    }
   ],
   "source": [
    "df_maior_duracao_album.head(5).plot(kind='bar')\n",
    "plt.xlabel(\"Albúns\")\n",
    "plt.ylabel(\"Duração\")\n",
    "plt.title(\"TOP 5 Albúns com maiores durações de músicas\")\n",
    "plt.show"
   ]
  },
  {
   "cell_type": "code",
   "execution_count": 16,
   "metadata": {},
   "outputs": [],
   "source": [
    "df_menor_duracao_album = df_rolling_stones.groupby('album')['duration_min'].mean().sort_values(ascending=True)"
   ]
  },
  {
   "cell_type": "code",
   "execution_count": 17,
   "metadata": {},
   "outputs": [
    {
     "data": {
      "text/plain": [
       "album\n",
       "Live 1965: Music From Charlie Is My Darling (Live From England/1965)    2.146082\n",
       "December’s Children (And Everybody’s)                                   2.408532\n",
       "December's Children (and everybody's)                                   2.408976\n",
       "Out Of Our Heads (UK Sequence)                                          2.449274\n",
       "Out Of Our Heads (UK)                                                   2.464643\n",
       "                                                                          ...   \n",
       "Totally Stripped - Paris (Live)                                         5.947430\n",
       "Live At The Checkerboard Lounge                                         6.009647\n",
       "Jamming With Edward                                                     6.042794\n",
       "Bridges To Bremen (Live)                                                6.332265\n",
       "Havana Moon (Live)                                                      6.632819\n",
       "Name: duration_min, Length: 90, dtype: float64"
      ]
     },
     "execution_count": 17,
     "metadata": {},
     "output_type": "execute_result"
    }
   ],
   "source": [
    "df_menor_duracao_album"
   ]
  },
  {
   "cell_type": "code",
   "execution_count": 18,
   "metadata": {},
   "outputs": [
    {
     "data": {
      "text/plain": [
       "<function matplotlib.pyplot.show(close=None, block=None)>"
      ]
     },
     "execution_count": 18,
     "metadata": {},
     "output_type": "execute_result"
    },
    {
     "data": {
      "image/png": "[encoded data removed]",
      "text/plain": [
       "<Figure size 640x480 with 1 Axes>"
      ]
     },
     "metadata": {},
     "output_type": "display_data"
    }
   ],
   "source": [
    "df_menor_duracao_album.head(5).plot(kind='bar')\n",
    "plt.xlabel(\"Albúns\")\n",
    "plt.ylabel(\"Duração\")\n",
    "plt.title(\"TOP 5 Álbuns com menores durações de músicas\")\n",
    "plt.show"
   ]
  },
  {
   "cell_type": "markdown",
   "metadata": {},
   "source": [
    "A função **value_counts()** ele irá contar quantas variedades de valores possue na nossa coluna."
   ]
  },
  {
   "cell_type": "code",
   "execution_count": 19,
   "metadata": {},
   "outputs": [
    {
     "data": {
      "image/png": "[encoded data removed]",
      "text/plain": [
       "<Figure size 640x480 with 1 Axes>"
      ]
     },
     "metadata": {},
     "output_type": "display_data"
    }
   ],
   "source": [
    "top_albuns = df_rolling_stones['album'].value_counts().head(10)\n",
    "plt.barh(top_albuns.index, top_albuns.values)\n",
    "plt.title(\"TOP 10 Álbuns com mais músicas\")\n",
    "plt.show()"
   ]
  },
  {
   "cell_type": "markdown",
   "metadata": {},
   "source": [
    "Agora vamos analisar como tem se comportado a popularidade dos álbuns na última década."
   ]
  },
  {
   "cell_type": "markdown",
   "metadata": {},
   "source": [
    "Iremos utilizar a função **between** para pegar os registros em um determinado intervalo de tempo."
   ]
  },
  {
   "cell_type": "code",
   "execution_count": 20,
   "metadata": {},
   "outputs": [],
   "source": [
    "df_ultima_decada = df_rolling_stones[df_rolling_stones['release_date'].between(pd.to_datetime('2011'), pd.to_datetime('2020'))]"
   ]
  },
  {
   "cell_type": "code",
   "execution_count": 21,
   "metadata": {},
   "outputs": [],
   "source": [
    "df_por_album = df_ultima_decada.groupby('album')['popularity'].sum().sort_values(ascending=False).head(10)"
   ]
  },
  {
   "cell_type": "code",
   "execution_count": 22,
   "metadata": {},
   "outputs": [
    {
     "data": {
      "text/plain": [
       "album\n",
       "Honk (Deluxe)                      1232\n",
       "Voodoo Lounge Uncut (Live)          654\n",
       "On Air (Deluxe)                     573\n",
       "Live At The Checkerboard Lounge     482\n",
       "Havana Moon (Live)                  445\n",
       "Bridges To Buenos Aires (Live)      433\n",
       "Blue & Lonesome                     419\n",
       "Bridges To Bremen (Live)            396\n",
       "Some Girls: Live In Texas '78       344\n",
       "Ladies & Gentlemen (Live)           343\n",
       "Name: popularity, dtype: int64"
      ]
     },
     "execution_count": 22,
     "metadata": {},
     "output_type": "execute_result"
    }
   ],
   "source": [
    "df_por_album"
   ]
  },
  {
   "cell_type": "code",
   "execution_count": 23,
   "metadata": {},
   "outputs": [],
   "source": [
    "total_popularidade = df_por_album.sum()\n",
    "\n",
    "df_porcentagem = (df_por_album/ total_popularidade) * 100"
   ]
  },
  {
   "cell_type": "code",
   "execution_count": 24,
   "metadata": {},
   "outputs": [],
   "source": [
    "labels = df_porcentagem.index.tolist()\n",
    "\n",
    "sizes = df_porcentagem.values.tolist()"
   ]
  },
  {
   "cell_type": "code",
   "execution_count": 25,
   "metadata": {},
   "outputs": [
    {
     "data": {
      "image/png": "[encoded data removed]",
      "text/plain": [
       "<Figure size 1800x600 with 1 Axes>"
      ]
     },
     "metadata": {},
     "output_type": "display_data"
    }
   ],
   "source": [
    "figura, grafico = plt.subplots(figsize=(18,6))\n",
    "grafico.pie(sizes, autopct=\"%1.1f%%\")\n",
    "grafico.axis('equal')\n",
    "plt.title(\"Porcentagem de popularidade de álbuns na última década\")\n",
    "plt.legend(labels, loc='best')\n",
    "plt.show()"
   ]
  },
  {
   "cell_type": "markdown",
   "metadata": {},
   "source": [
    "### Outliers "
   ]
  },
  {
   "cell_type": "markdown",
   "metadata": {},
   "source": [
    "são valores que se distanciam significativamente da maioria dos dados de um conjunto. Eles podem indicar variabilidade natural, erros de medição, falhas no processo de coleta de dados."
   ]
  },
  {
   "cell_type": "markdown",
   "metadata": {},
   "source": [
    "Iremos utilizar o gráfico boxplot para visualizarmos essa analise, pois ele demonstra a distruibuição dos nossos dados."
   ]
  },
  {
   "cell_type": "code",
   "execution_count": 26,
   "metadata": {},
   "outputs": [
    {
     "data": {
      "image/png": "[encoded data removed]",
      "text/plain": [
       "<Figure size 1200x600 with 1 Axes>"
      ]
     },
     "metadata": {},
     "output_type": "display_data"
    }
   ],
   "source": [
    "sns.set(style=\"whitegrid\")\n",
    "fig, axes = plt.subplots(figsize=(12,6))\n",
    "sns.boxplot(x='duration_min', data= df_rolling_stones)\n",
    "axes.set_title(\"Boxplot\")\n",
    "plt.show()"
   ]
  },
  {
   "cell_type": "markdown",
   "metadata": {},
   "source": [
    "Grafico violin."
   ]
  },
  {
   "cell_type": "code",
   "execution_count": 27,
   "metadata": {},
   "outputs": [
    {
     "data": {
      "image/png": "[encoded data removed]",
      "text/plain": [
       "<Figure size 1200x600 with 1 Axes>"
      ]
     },
     "metadata": {},
     "output_type": "display_data"
    }
   ],
   "source": [
    "fig, axes = plt.subplots(figsize=(12,6))\n",
    "sns.violinplot(x='duration_min', data= df_rolling_stones, color=\"gray\")\n",
    "axes.set_title(\"Gráfico de Violin\")\n",
    "plt.show()"
   ]
  },
  {
   "cell_type": "markdown",
   "metadata": {},
   "source": [
    "Iremos juntar ambos os gráficos agora."
   ]
  },
  {
   "cell_type": "code",
   "execution_count": 28,
   "metadata": {},
   "outputs": [
    {
     "data": {
      "image/png": "[encoded data removed]",
      "text/plain": [
       "<Figure size 800x600 with 1 Axes>"
      ]
     },
     "metadata": {},
     "output_type": "display_data"
    }
   ],
   "source": [
    "fig, ax = plt.subplots(figsize=(8,6))\n",
    "sns.violinplot(x='duration_min', data= df_rolling_stones, ax=ax,color=\"gray\")\n",
    "sns.boxplot(x='duration_min', data= df_rolling_stones,ax=ax, whis=1.5, color=\"darkblue\")\n",
    "axes.set_title(\"Gráfico de Violin e Boxplot\")\n",
    "plt.show()"
   ]
  },
  {
   "cell_type": "markdown",
   "metadata": {},
   "source": [
    "A ideia agora é ver se esses dados que estão fora dos nossos padrões tem av em questão de serem músicas ao vivos utilizando a variável **liveness** presente na nossa base de dados."
   ]
  },
  {
   "cell_type": "code",
   "execution_count": 29,
   "metadata": {},
   "outputs": [
    {
     "data": {
      "text/html": [
       "<div>\n",
       "<style scoped>\n",
       "    .dataframe tbody tr th:only-of-type {\n",
       "        vertical-align: middle;\n",
       "    }\n",
       "\n",
       "    .dataframe tbody tr th {\n",
       "        vertical-align: top;\n",
       "    }\n",
       "\n",
       "    .dataframe thead th {\n",
       "        text-align: right;\n",
       "    }\n",
       "</style>\n",
       "<table border=\"1\" class=\"dataframe\">\n",
       "  <thead>\n",
       "    <tr style=\"text-align: right;\">\n",
       "      <th></th>\n",
       "      <th>name</th>\n",
       "      <th>album</th>\n",
       "      <th>release_date</th>\n",
       "      <th>track_number</th>\n",
       "      <th>acousticness</th>\n",
       "      <th>danceability</th>\n",
       "      <th>energy</th>\n",
       "      <th>instrumentalness</th>\n",
       "      <th>liveness</th>\n",
       "      <th>loudness</th>\n",
       "      <th>speechiness</th>\n",
       "      <th>tempo</th>\n",
       "      <th>valence</th>\n",
       "      <th>popularity</th>\n",
       "      <th>duration_ms</th>\n",
       "      <th>duration_min</th>\n",
       "    </tr>\n",
       "  </thead>\n",
       "  <tbody>\n",
       "    <tr>\n",
       "      <th>0</th>\n",
       "      <td>Concert Intro Music - Live</td>\n",
       "      <td>Licked Live In NYC</td>\n",
       "      <td>2022-06-10</td>\n",
       "      <td>1</td>\n",
       "      <td>0.0824</td>\n",
       "      <td>0.463</td>\n",
       "      <td>0.993</td>\n",
       "      <td>0.996000</td>\n",
       "      <td>0.932</td>\n",
       "      <td>-12913.0</td>\n",
       "      <td>0.1100</td>\n",
       "      <td>118001.0</td>\n",
       "      <td>0.0302</td>\n",
       "      <td>33</td>\n",
       "      <td>48640</td>\n",
       "      <td>0.810667</td>\n",
       "    </tr>\n",
       "    <tr>\n",
       "      <th>1</th>\n",
       "      <td>Street Fighting Man - Live</td>\n",
       "      <td>Licked Live In NYC</td>\n",
       "      <td>2022-06-10</td>\n",
       "      <td>2</td>\n",
       "      <td>0.4370</td>\n",
       "      <td>0.326</td>\n",
       "      <td>0.965</td>\n",
       "      <td>0.233000</td>\n",
       "      <td>0.961</td>\n",
       "      <td>-4803.0</td>\n",
       "      <td>0.0759</td>\n",
       "      <td>131455.0</td>\n",
       "      <td>0.3180</td>\n",
       "      <td>34</td>\n",
       "      <td>253173</td>\n",
       "      <td>4.219550</td>\n",
       "    </tr>\n",
       "    <tr>\n",
       "      <th>2</th>\n",
       "      <td>Start Me Up - Live</td>\n",
       "      <td>Licked Live In NYC</td>\n",
       "      <td>2022-06-10</td>\n",
       "      <td>3</td>\n",
       "      <td>0.4160</td>\n",
       "      <td>0.386</td>\n",
       "      <td>0.969</td>\n",
       "      <td>0.400000</td>\n",
       "      <td>0.956</td>\n",
       "      <td>-4936.0</td>\n",
       "      <td>0.1150</td>\n",
       "      <td>130066.0</td>\n",
       "      <td>0.3130</td>\n",
       "      <td>34</td>\n",
       "      <td>263160</td>\n",
       "      <td>4.386000</td>\n",
       "    </tr>\n",
       "    <tr>\n",
       "      <th>3</th>\n",
       "      <td>If You Can't Rock Me - Live</td>\n",
       "      <td>Licked Live In NYC</td>\n",
       "      <td>2022-06-10</td>\n",
       "      <td>4</td>\n",
       "      <td>0.5670</td>\n",
       "      <td>0.369</td>\n",
       "      <td>0.985</td>\n",
       "      <td>0.000107</td>\n",
       "      <td>0.895</td>\n",
       "      <td>-5535.0</td>\n",
       "      <td>0.1930</td>\n",
       "      <td>132994.0</td>\n",
       "      <td>0.1470</td>\n",
       "      <td>32</td>\n",
       "      <td>305880</td>\n",
       "      <td>5.098000</td>\n",
       "    </tr>\n",
       "    <tr>\n",
       "      <th>4</th>\n",
       "      <td>Don’t Stop - Live</td>\n",
       "      <td>Licked Live In NYC</td>\n",
       "      <td>2022-06-10</td>\n",
       "      <td>5</td>\n",
       "      <td>0.4000</td>\n",
       "      <td>0.303</td>\n",
       "      <td>0.969</td>\n",
       "      <td>0.055900</td>\n",
       "      <td>0.966</td>\n",
       "      <td>-5098.0</td>\n",
       "      <td>0.0930</td>\n",
       "      <td>130533.0</td>\n",
       "      <td>0.2060</td>\n",
       "      <td>32</td>\n",
       "      <td>305106</td>\n",
       "      <td>5.085100</td>\n",
       "    </tr>\n",
       "  </tbody>\n",
       "</table>\n",
       "</div>"
      ],
      "text/plain": [
       "                          name               album release_date  track_number  \\\n",
       "0   Concert Intro Music - Live  Licked Live In NYC   2022-06-10             1   \n",
       "1   Street Fighting Man - Live  Licked Live In NYC   2022-06-10             2   \n",
       "2           Start Me Up - Live  Licked Live In NYC   2022-06-10             3   \n",
       "3  If You Can't Rock Me - Live  Licked Live In NYC   2022-06-10             4   \n",
       "4            Don’t Stop - Live  Licked Live In NYC   2022-06-10             5   \n",
       "\n",
       "   acousticness  danceability  energy  instrumentalness  liveness  loudness  \\\n",
       "0        0.0824         0.463   0.993          0.996000     0.932  -12913.0   \n",
       "1        0.4370         0.326   0.965          0.233000     0.961   -4803.0   \n",
       "2        0.4160         0.386   0.969          0.400000     0.956   -4936.0   \n",
       "3        0.5670         0.369   0.985          0.000107     0.895   -5535.0   \n",
       "4        0.4000         0.303   0.969          0.055900     0.966   -5098.0   \n",
       "\n",
       "   speechiness     tempo  valence  popularity  duration_ms  duration_min  \n",
       "0       0.1100  118001.0   0.0302          33        48640      0.810667  \n",
       "1       0.0759  131455.0   0.3180          34       253173      4.219550  \n",
       "2       0.1150  130066.0   0.3130          34       263160      4.386000  \n",
       "3       0.1930  132994.0   0.1470          32       305880      5.098000  \n",
       "4       0.0930  130533.0   0.2060          32       305106      5.085100  "
      ]
     },
     "execution_count": 29,
     "metadata": {},
     "output_type": "execute_result"
    }
   ],
   "source": [
    "df_rolling_stones.head(5)"
   ]
  },
  {
   "cell_type": "markdown",
   "metadata": {},
   "source": [
    "Quanto mais perto de 1, significa que esta música é ao vivo."
   ]
  },
  {
   "cell_type": "markdown",
   "metadata": {},
   "source": [
    "Iremos fazer uma função para classificar as nossas músicas de acordo com a coluna escolhida."
   ]
  },
  {
   "cell_type": "code",
   "execution_count": 30,
   "metadata": {},
   "outputs": [],
   "source": [
    "def classica_musica_ao_vivo(df):\n",
    "    if df['liveness'] >= 0.8:\n",
    "        return True\n",
    "    else:\n",
    "        return False"
   ]
  },
  {
   "cell_type": "code",
   "execution_count": 31,
   "metadata": {},
   "outputs": [],
   "source": [
    "df_rolling_stones['ao_vivo'] = df_rolling_stones.apply(classica_musica_ao_vivo, axis=1)"
   ]
  },
  {
   "cell_type": "code",
   "execution_count": 32,
   "metadata": {},
   "outputs": [
    {
     "data": {
      "text/html": [
       "<div>\n",
       "<style scoped>\n",
       "    .dataframe tbody tr th:only-of-type {\n",
       "        vertical-align: middle;\n",
       "    }\n",
       "\n",
       "    .dataframe tbody tr th {\n",
       "        vertical-align: top;\n",
       "    }\n",
       "\n",
       "    .dataframe thead th {\n",
       "        text-align: right;\n",
       "    }\n",
       "</style>\n",
       "<table border=\"1\" class=\"dataframe\">\n",
       "  <thead>\n",
       "    <tr style=\"text-align: right;\">\n",
       "      <th></th>\n",
       "      <th>name</th>\n",
       "      <th>album</th>\n",
       "      <th>release_date</th>\n",
       "      <th>track_number</th>\n",
       "      <th>acousticness</th>\n",
       "      <th>danceability</th>\n",
       "      <th>energy</th>\n",
       "      <th>instrumentalness</th>\n",
       "      <th>liveness</th>\n",
       "      <th>loudness</th>\n",
       "      <th>speechiness</th>\n",
       "      <th>tempo</th>\n",
       "      <th>valence</th>\n",
       "      <th>popularity</th>\n",
       "      <th>duration_ms</th>\n",
       "      <th>duration_min</th>\n",
       "      <th>ao_vivo</th>\n",
       "    </tr>\n",
       "  </thead>\n",
       "  <tbody>\n",
       "    <tr>\n",
       "      <th>0</th>\n",
       "      <td>Concert Intro Music - Live</td>\n",
       "      <td>Licked Live In NYC</td>\n",
       "      <td>2022-06-10</td>\n",
       "      <td>1</td>\n",
       "      <td>0.0824</td>\n",
       "      <td>0.463</td>\n",
       "      <td>0.993</td>\n",
       "      <td>0.996000</td>\n",
       "      <td>0.9320</td>\n",
       "      <td>-12913.0</td>\n",
       "      <td>0.1100</td>\n",
       "      <td>118001.00</td>\n",
       "      <td>0.0302</td>\n",
       "      <td>33</td>\n",
       "      <td>48640</td>\n",
       "      <td>0.810667</td>\n",
       "      <td>True</td>\n",
       "    </tr>\n",
       "    <tr>\n",
       "      <th>1</th>\n",
       "      <td>Street Fighting Man - Live</td>\n",
       "      <td>Licked Live In NYC</td>\n",
       "      <td>2022-06-10</td>\n",
       "      <td>2</td>\n",
       "      <td>0.4370</td>\n",
       "      <td>0.326</td>\n",
       "      <td>0.965</td>\n",
       "      <td>0.233000</td>\n",
       "      <td>0.9610</td>\n",
       "      <td>-4803.0</td>\n",
       "      <td>0.0759</td>\n",
       "      <td>131455.00</td>\n",
       "      <td>0.3180</td>\n",
       "      <td>34</td>\n",
       "      <td>253173</td>\n",
       "      <td>4.219550</td>\n",
       "      <td>True</td>\n",
       "    </tr>\n",
       "    <tr>\n",
       "      <th>2</th>\n",
       "      <td>Start Me Up - Live</td>\n",
       "      <td>Licked Live In NYC</td>\n",
       "      <td>2022-06-10</td>\n",
       "      <td>3</td>\n",
       "      <td>0.4160</td>\n",
       "      <td>0.386</td>\n",
       "      <td>0.969</td>\n",
       "      <td>0.400000</td>\n",
       "      <td>0.9560</td>\n",
       "      <td>-4936.0</td>\n",
       "      <td>0.1150</td>\n",
       "      <td>130066.00</td>\n",
       "      <td>0.3130</td>\n",
       "      <td>34</td>\n",
       "      <td>263160</td>\n",
       "      <td>4.386000</td>\n",
       "      <td>True</td>\n",
       "    </tr>\n",
       "    <tr>\n",
       "      <th>3</th>\n",
       "      <td>If You Can't Rock Me - Live</td>\n",
       "      <td>Licked Live In NYC</td>\n",
       "      <td>2022-06-10</td>\n",
       "      <td>4</td>\n",
       "      <td>0.5670</td>\n",
       "      <td>0.369</td>\n",
       "      <td>0.985</td>\n",
       "      <td>0.000107</td>\n",
       "      <td>0.8950</td>\n",
       "      <td>-5535.0</td>\n",
       "      <td>0.1930</td>\n",
       "      <td>132994.00</td>\n",
       "      <td>0.1470</td>\n",
       "      <td>32</td>\n",
       "      <td>305880</td>\n",
       "      <td>5.098000</td>\n",
       "      <td>True</td>\n",
       "    </tr>\n",
       "    <tr>\n",
       "      <th>4</th>\n",
       "      <td>Don’t Stop - Live</td>\n",
       "      <td>Licked Live In NYC</td>\n",
       "      <td>2022-06-10</td>\n",
       "      <td>5</td>\n",
       "      <td>0.4000</td>\n",
       "      <td>0.303</td>\n",
       "      <td>0.969</td>\n",
       "      <td>0.055900</td>\n",
       "      <td>0.9660</td>\n",
       "      <td>-5098.0</td>\n",
       "      <td>0.0930</td>\n",
       "      <td>130533.00</td>\n",
       "      <td>0.2060</td>\n",
       "      <td>32</td>\n",
       "      <td>305106</td>\n",
       "      <td>5.085100</td>\n",
       "      <td>True</td>\n",
       "    </tr>\n",
       "    <tr>\n",
       "      <th>...</th>\n",
       "      <td>...</td>\n",
       "      <td>...</td>\n",
       "      <td>...</td>\n",
       "      <td>...</td>\n",
       "      <td>...</td>\n",
       "      <td>...</td>\n",
       "      <td>...</td>\n",
       "      <td>...</td>\n",
       "      <td>...</td>\n",
       "      <td>...</td>\n",
       "      <td>...</td>\n",
       "      <td>...</td>\n",
       "      <td>...</td>\n",
       "      <td>...</td>\n",
       "      <td>...</td>\n",
       "      <td>...</td>\n",
       "      <td>...</td>\n",
       "    </tr>\n",
       "    <tr>\n",
       "      <th>1605</th>\n",
       "      <td>Carol</td>\n",
       "      <td>The Rolling Stones</td>\n",
       "      <td>1964-04-16</td>\n",
       "      <td>8</td>\n",
       "      <td>0.1570</td>\n",
       "      <td>0.466</td>\n",
       "      <td>0.932</td>\n",
       "      <td>0.006170</td>\n",
       "      <td>0.3240</td>\n",
       "      <td>-9214.0</td>\n",
       "      <td>0.0429</td>\n",
       "      <td>177.34</td>\n",
       "      <td>0.9670</td>\n",
       "      <td>39</td>\n",
       "      <td>154080</td>\n",
       "      <td>2.568000</td>\n",
       "      <td>False</td>\n",
       "    </tr>\n",
       "    <tr>\n",
       "      <th>1606</th>\n",
       "      <td>Tell Me</td>\n",
       "      <td>The Rolling Stones</td>\n",
       "      <td>1964-04-16</td>\n",
       "      <td>9</td>\n",
       "      <td>0.0576</td>\n",
       "      <td>0.509</td>\n",
       "      <td>0.706</td>\n",
       "      <td>0.000002</td>\n",
       "      <td>0.5160</td>\n",
       "      <td>-9427.0</td>\n",
       "      <td>0.0843</td>\n",
       "      <td>122015.00</td>\n",
       "      <td>0.4460</td>\n",
       "      <td>36</td>\n",
       "      <td>245266</td>\n",
       "      <td>4.087767</td>\n",
       "      <td>False</td>\n",
       "    </tr>\n",
       "    <tr>\n",
       "      <th>1607</th>\n",
       "      <td>Can I Get A Witness</td>\n",
       "      <td>The Rolling Stones</td>\n",
       "      <td>1964-04-16</td>\n",
       "      <td>10</td>\n",
       "      <td>0.3710</td>\n",
       "      <td>0.790</td>\n",
       "      <td>0.774</td>\n",
       "      <td>0.000000</td>\n",
       "      <td>0.0669</td>\n",
       "      <td>-7961.0</td>\n",
       "      <td>0.0720</td>\n",
       "      <td>97035.00</td>\n",
       "      <td>0.8350</td>\n",
       "      <td>30</td>\n",
       "      <td>176080</td>\n",
       "      <td>2.934667</td>\n",
       "      <td>False</td>\n",
       "    </tr>\n",
       "    <tr>\n",
       "      <th>1608</th>\n",
       "      <td>You Can Make It If You Try</td>\n",
       "      <td>The Rolling Stones</td>\n",
       "      <td>1964-04-16</td>\n",
       "      <td>11</td>\n",
       "      <td>0.2170</td>\n",
       "      <td>0.700</td>\n",
       "      <td>0.546</td>\n",
       "      <td>0.000070</td>\n",
       "      <td>0.1660</td>\n",
       "      <td>-9567.0</td>\n",
       "      <td>0.0622</td>\n",
       "      <td>102634.00</td>\n",
       "      <td>0.5320</td>\n",
       "      <td>27</td>\n",
       "      <td>121680</td>\n",
       "      <td>2.028000</td>\n",
       "      <td>False</td>\n",
       "    </tr>\n",
       "    <tr>\n",
       "      <th>1609</th>\n",
       "      <td>Walking The Dog</td>\n",
       "      <td>The Rolling Stones</td>\n",
       "      <td>1964-04-16</td>\n",
       "      <td>12</td>\n",
       "      <td>0.3830</td>\n",
       "      <td>0.727</td>\n",
       "      <td>0.934</td>\n",
       "      <td>0.068500</td>\n",
       "      <td>0.0965</td>\n",
       "      <td>-8373.0</td>\n",
       "      <td>0.0359</td>\n",
       "      <td>125275.00</td>\n",
       "      <td>0.9690</td>\n",
       "      <td>35</td>\n",
       "      <td>189186</td>\n",
       "      <td>3.153100</td>\n",
       "      <td>False</td>\n",
       "    </tr>\n",
       "  </tbody>\n",
       "</table>\n",
       "<p>1610 rows × 17 columns</p>\n",
       "</div>"
      ],
      "text/plain": [
       "                             name               album release_date  \\\n",
       "0      Concert Intro Music - Live  Licked Live In NYC   2022-06-10   \n",
       "1      Street Fighting Man - Live  Licked Live In NYC   2022-06-10   \n",
       "2              Start Me Up - Live  Licked Live In NYC   2022-06-10   \n",
       "3     If You Can't Rock Me - Live  Licked Live In NYC   2022-06-10   \n",
       "4               Don’t Stop - Live  Licked Live In NYC   2022-06-10   \n",
       "...                           ...                 ...          ...   \n",
       "1605                        Carol  The Rolling Stones   1964-04-16   \n",
       "1606                      Tell Me  The Rolling Stones   1964-04-16   \n",
       "1607          Can I Get A Witness  The Rolling Stones   1964-04-16   \n",
       "1608   You Can Make It If You Try  The Rolling Stones   1964-04-16   \n",
       "1609              Walking The Dog  The Rolling Stones   1964-04-16   \n",
       "\n",
       "      track_number  acousticness  danceability  energy  instrumentalness  \\\n",
       "0                1        0.0824         0.463   0.993          0.996000   \n",
       "1                2        0.4370         0.326   0.965          0.233000   \n",
       "2                3        0.4160         0.386   0.969          0.400000   \n",
       "3                4        0.5670         0.369   0.985          0.000107   \n",
       "4                5        0.4000         0.303   0.969          0.055900   \n",
       "...            ...           ...           ...     ...               ...   \n",
       "1605             8        0.1570         0.466   0.932          0.006170   \n",
       "1606             9        0.0576         0.509   0.706          0.000002   \n",
       "1607            10        0.3710         0.790   0.774          0.000000   \n",
       "1608            11        0.2170         0.700   0.546          0.000070   \n",
       "1609            12        0.3830         0.727   0.934          0.068500   \n",
       "\n",
       "      liveness  loudness  speechiness      tempo  valence  popularity  \\\n",
       "0       0.9320  -12913.0       0.1100  118001.00   0.0302          33   \n",
       "1       0.9610   -4803.0       0.0759  131455.00   0.3180          34   \n",
       "2       0.9560   -4936.0       0.1150  130066.00   0.3130          34   \n",
       "3       0.8950   -5535.0       0.1930  132994.00   0.1470          32   \n",
       "4       0.9660   -5098.0       0.0930  130533.00   0.2060          32   \n",
       "...        ...       ...          ...        ...      ...         ...   \n",
       "1605    0.3240   -9214.0       0.0429     177.34   0.9670          39   \n",
       "1606    0.5160   -9427.0       0.0843  122015.00   0.4460          36   \n",
       "1607    0.0669   -7961.0       0.0720   97035.00   0.8350          30   \n",
       "1608    0.1660   -9567.0       0.0622  102634.00   0.5320          27   \n",
       "1609    0.0965   -8373.0       0.0359  125275.00   0.9690          35   \n",
       "\n",
       "      duration_ms  duration_min  ao_vivo  \n",
       "0           48640      0.810667     True  \n",
       "1          253173      4.219550     True  \n",
       "2          263160      4.386000     True  \n",
       "3          305880      5.098000     True  \n",
       "4          305106      5.085100     True  \n",
       "...           ...           ...      ...  \n",
       "1605       154080      2.568000    False  \n",
       "1606       245266      4.087767    False  \n",
       "1607       176080      2.934667    False  \n",
       "1608       121680      2.028000    False  \n",
       "1609       189186      3.153100    False  \n",
       "\n",
       "[1610 rows x 17 columns]"
      ]
     },
     "execution_count": 32,
     "metadata": {},
     "output_type": "execute_result"
    }
   ],
   "source": [
    "df_rolling_stones"
   ]
  },
  {
   "cell_type": "markdown",
   "metadata": {},
   "source": [
    "Agora iremos agrupar as músicas que são ao vivo, para conseguimos contar quantos registros existem."
   ]
  },
  {
   "cell_type": "code",
   "execution_count": 34,
   "metadata": {},
   "outputs": [
    {
     "data": {
      "text/plain": [
       "ao_vivo\n",
       "False    1112\n",
       "True      498\n",
       "Name: ao_vivo, dtype: int64"
      ]
     },
     "execution_count": 34,
     "metadata": {},
     "output_type": "execute_result"
    }
   ],
   "source": [
    "df_rolling_stones.groupby('ao_vivo')['ao_vivo'].count()"
   ]
  },
  {
   "cell_type": "markdown",
   "metadata": {},
   "source": [
    "Agora iremos dividir esses dois grupos em um dataframe, para podermos calcular a média de durações das músicas, e podermos análisar se realmente possue essa diferença."
   ]
  },
  {
   "cell_type": "code",
   "execution_count": 35,
   "metadata": {},
   "outputs": [],
   "source": [
    "df_gravado_em_estudio = df_rolling_stones[df_rolling_stones['ao_vivo'] == False]\n",
    "\n",
    "df_show_ao_vivo = df_rolling_stones[df_rolling_stones['ao_vivo'] == True]"
   ]
  },
  {
   "cell_type": "code",
   "execution_count": 37,
   "metadata": {},
   "outputs": [
    {
     "data": {
      "text/html": [
       "<div>\n",
       "<style scoped>\n",
       "    .dataframe tbody tr th:only-of-type {\n",
       "        vertical-align: middle;\n",
       "    }\n",
       "\n",
       "    .dataframe tbody tr th {\n",
       "        vertical-align: top;\n",
       "    }\n",
       "\n",
       "    .dataframe thead th {\n",
       "        text-align: right;\n",
       "    }\n",
       "</style>\n",
       "<table border=\"1\" class=\"dataframe\">\n",
       "  <thead>\n",
       "    <tr style=\"text-align: right;\">\n",
       "      <th></th>\n",
       "      <th>name</th>\n",
       "      <th>album</th>\n",
       "      <th>release_date</th>\n",
       "      <th>track_number</th>\n",
       "      <th>acousticness</th>\n",
       "      <th>danceability</th>\n",
       "      <th>energy</th>\n",
       "      <th>instrumentalness</th>\n",
       "      <th>liveness</th>\n",
       "      <th>loudness</th>\n",
       "      <th>speechiness</th>\n",
       "      <th>tempo</th>\n",
       "      <th>valence</th>\n",
       "      <th>popularity</th>\n",
       "      <th>duration_ms</th>\n",
       "      <th>duration_min</th>\n",
       "      <th>ao_vivo</th>\n",
       "    </tr>\n",
       "  </thead>\n",
       "  <tbody>\n",
       "    <tr>\n",
       "      <th>5</th>\n",
       "      <td>Monkey Man - Live</td>\n",
       "      <td>Licked Live In NYC</td>\n",
       "      <td>2022-06-10</td>\n",
       "      <td>6</td>\n",
       "      <td>0.2750</td>\n",
       "      <td>0.340</td>\n",
       "      <td>0.956</td>\n",
       "      <td>0.12500</td>\n",
       "      <td>0.741</td>\n",
       "      <td>-5539.0</td>\n",
       "      <td>0.0915</td>\n",
       "      <td>101628.0</td>\n",
       "      <td>0.125</td>\n",
       "      <td>31</td>\n",
       "      <td>244293</td>\n",
       "      <td>4.071550</td>\n",
       "      <td>False</td>\n",
       "    </tr>\n",
       "    <tr>\n",
       "      <th>23</th>\n",
       "      <td>Honky Tonk Women - Live At The El Mocambo 1977</td>\n",
       "      <td>Live At The El Mocambo</td>\n",
       "      <td>2022-05-13</td>\n",
       "      <td>1</td>\n",
       "      <td>0.1620</td>\n",
       "      <td>0.430</td>\n",
       "      <td>0.901</td>\n",
       "      <td>0.01100</td>\n",
       "      <td>0.694</td>\n",
       "      <td>-6215.0</td>\n",
       "      <td>0.0450</td>\n",
       "      <td>112077.0</td>\n",
       "      <td>0.890</td>\n",
       "      <td>32</td>\n",
       "      <td>216546</td>\n",
       "      <td>3.609100</td>\n",
       "      <td>False</td>\n",
       "    </tr>\n",
       "    <tr>\n",
       "      <th>25</th>\n",
       "      <td>Hand Of Fate - Live At The El Mocambo 1977</td>\n",
       "      <td>Live At The El Mocambo</td>\n",
       "      <td>2022-05-13</td>\n",
       "      <td>3</td>\n",
       "      <td>0.0654</td>\n",
       "      <td>0.477</td>\n",
       "      <td>0.899</td>\n",
       "      <td>0.03760</td>\n",
       "      <td>0.727</td>\n",
       "      <td>-6189.0</td>\n",
       "      <td>0.0425</td>\n",
       "      <td>129991.0</td>\n",
       "      <td>0.805</td>\n",
       "      <td>29</td>\n",
       "      <td>267866</td>\n",
       "      <td>4.464433</td>\n",
       "      <td>False</td>\n",
       "    </tr>\n",
       "    <tr>\n",
       "      <th>26</th>\n",
       "      <td>Route 66 - Live At The El Mocambo 1977</td>\n",
       "      <td>Live At The El Mocambo</td>\n",
       "      <td>2022-05-13</td>\n",
       "      <td>4</td>\n",
       "      <td>0.0975</td>\n",
       "      <td>0.473</td>\n",
       "      <td>0.923</td>\n",
       "      <td>0.00157</td>\n",
       "      <td>0.722</td>\n",
       "      <td>-6204.0</td>\n",
       "      <td>0.0791</td>\n",
       "      <td>144625.0</td>\n",
       "      <td>0.792</td>\n",
       "      <td>30</td>\n",
       "      <td>193653</td>\n",
       "      <td>3.227550</td>\n",
       "      <td>False</td>\n",
       "    </tr>\n",
       "    <tr>\n",
       "      <th>28</th>\n",
       "      <td>Crazy Mama - Live At The El Mocambo 1977</td>\n",
       "      <td>Live At The El Mocambo</td>\n",
       "      <td>2022-05-13</td>\n",
       "      <td>6</td>\n",
       "      <td>0.0288</td>\n",
       "      <td>0.447</td>\n",
       "      <td>0.883</td>\n",
       "      <td>0.00554</td>\n",
       "      <td>0.726</td>\n",
       "      <td>-6266.0</td>\n",
       "      <td>0.0371</td>\n",
       "      <td>117604.0</td>\n",
       "      <td>0.556</td>\n",
       "      <td>29</td>\n",
       "      <td>299213</td>\n",
       "      <td>4.986883</td>\n",
       "      <td>False</td>\n",
       "    </tr>\n",
       "  </tbody>\n",
       "</table>\n",
       "</div>"
      ],
      "text/plain": [
       "                                              name                   album  \\\n",
       "5                                Monkey Man - Live      Licked Live In NYC   \n",
       "23  Honky Tonk Women - Live At The El Mocambo 1977  Live At The El Mocambo   \n",
       "25      Hand Of Fate - Live At The El Mocambo 1977  Live At The El Mocambo   \n",
       "26          Route 66 - Live At The El Mocambo 1977  Live At The El Mocambo   \n",
       "28        Crazy Mama - Live At The El Mocambo 1977  Live At The El Mocambo   \n",
       "\n",
       "   release_date  track_number  acousticness  danceability  energy  \\\n",
       "5    2022-06-10             6        0.2750         0.340   0.956   \n",
       "23   2022-05-13             1        0.1620         0.430   0.901   \n",
       "25   2022-05-13             3        0.0654         0.477   0.899   \n",
       "26   2022-05-13             4        0.0975         0.473   0.923   \n",
       "28   2022-05-13             6        0.0288         0.447   0.883   \n",
       "\n",
       "    instrumentalness  liveness  loudness  speechiness     tempo  valence  \\\n",
       "5            0.12500     0.741   -5539.0       0.0915  101628.0    0.125   \n",
       "23           0.01100     0.694   -6215.0       0.0450  112077.0    0.890   \n",
       "25           0.03760     0.727   -6189.0       0.0425  129991.0    0.805   \n",
       "26           0.00157     0.722   -6204.0       0.0791  144625.0    0.792   \n",
       "28           0.00554     0.726   -6266.0       0.0371  117604.0    0.556   \n",
       "\n",
       "    popularity  duration_ms  duration_min  ao_vivo  \n",
       "5           31       244293      4.071550    False  \n",
       "23          32       216546      3.609100    False  \n",
       "25          29       267866      4.464433    False  \n",
       "26          30       193653      3.227550    False  \n",
       "28          29       299213      4.986883    False  "
      ]
     },
     "execution_count": 37,
     "metadata": {},
     "output_type": "execute_result"
    }
   ],
   "source": [
    "df_gravado_em_estudio.head()"
   ]
  },
  {
   "cell_type": "code",
   "execution_count": 38,
   "metadata": {},
   "outputs": [
    {
     "data": {
      "text/html": [
       "<div>\n",
       "<style scoped>\n",
       "    .dataframe tbody tr th:only-of-type {\n",
       "        vertical-align: middle;\n",
       "    }\n",
       "\n",
       "    .dataframe tbody tr th {\n",
       "        vertical-align: top;\n",
       "    }\n",
       "\n",
       "    .dataframe thead th {\n",
       "        text-align: right;\n",
       "    }\n",
       "</style>\n",
       "<table border=\"1\" class=\"dataframe\">\n",
       "  <thead>\n",
       "    <tr style=\"text-align: right;\">\n",
       "      <th></th>\n",
       "      <th>name</th>\n",
       "      <th>album</th>\n",
       "      <th>release_date</th>\n",
       "      <th>track_number</th>\n",
       "      <th>acousticness</th>\n",
       "      <th>danceability</th>\n",
       "      <th>energy</th>\n",
       "      <th>instrumentalness</th>\n",
       "      <th>liveness</th>\n",
       "      <th>loudness</th>\n",
       "      <th>speechiness</th>\n",
       "      <th>tempo</th>\n",
       "      <th>valence</th>\n",
       "      <th>popularity</th>\n",
       "      <th>duration_ms</th>\n",
       "      <th>duration_min</th>\n",
       "      <th>ao_vivo</th>\n",
       "    </tr>\n",
       "  </thead>\n",
       "  <tbody>\n",
       "    <tr>\n",
       "      <th>0</th>\n",
       "      <td>Concert Intro Music - Live</td>\n",
       "      <td>Licked Live In NYC</td>\n",
       "      <td>2022-06-10</td>\n",
       "      <td>1</td>\n",
       "      <td>0.0824</td>\n",
       "      <td>0.463</td>\n",
       "      <td>0.993</td>\n",
       "      <td>0.996000</td>\n",
       "      <td>0.932</td>\n",
       "      <td>-12913.0</td>\n",
       "      <td>0.1100</td>\n",
       "      <td>118001.0</td>\n",
       "      <td>0.0302</td>\n",
       "      <td>33</td>\n",
       "      <td>48640</td>\n",
       "      <td>0.810667</td>\n",
       "      <td>True</td>\n",
       "    </tr>\n",
       "    <tr>\n",
       "      <th>1</th>\n",
       "      <td>Street Fighting Man - Live</td>\n",
       "      <td>Licked Live In NYC</td>\n",
       "      <td>2022-06-10</td>\n",
       "      <td>2</td>\n",
       "      <td>0.4370</td>\n",
       "      <td>0.326</td>\n",
       "      <td>0.965</td>\n",
       "      <td>0.233000</td>\n",
       "      <td>0.961</td>\n",
       "      <td>-4803.0</td>\n",
       "      <td>0.0759</td>\n",
       "      <td>131455.0</td>\n",
       "      <td>0.3180</td>\n",
       "      <td>34</td>\n",
       "      <td>253173</td>\n",
       "      <td>4.219550</td>\n",
       "      <td>True</td>\n",
       "    </tr>\n",
       "    <tr>\n",
       "      <th>2</th>\n",
       "      <td>Start Me Up - Live</td>\n",
       "      <td>Licked Live In NYC</td>\n",
       "      <td>2022-06-10</td>\n",
       "      <td>3</td>\n",
       "      <td>0.4160</td>\n",
       "      <td>0.386</td>\n",
       "      <td>0.969</td>\n",
       "      <td>0.400000</td>\n",
       "      <td>0.956</td>\n",
       "      <td>-4936.0</td>\n",
       "      <td>0.1150</td>\n",
       "      <td>130066.0</td>\n",
       "      <td>0.3130</td>\n",
       "      <td>34</td>\n",
       "      <td>263160</td>\n",
       "      <td>4.386000</td>\n",
       "      <td>True</td>\n",
       "    </tr>\n",
       "    <tr>\n",
       "      <th>3</th>\n",
       "      <td>If You Can't Rock Me - Live</td>\n",
       "      <td>Licked Live In NYC</td>\n",
       "      <td>2022-06-10</td>\n",
       "      <td>4</td>\n",
       "      <td>0.5670</td>\n",
       "      <td>0.369</td>\n",
       "      <td>0.985</td>\n",
       "      <td>0.000107</td>\n",
       "      <td>0.895</td>\n",
       "      <td>-5535.0</td>\n",
       "      <td>0.1930</td>\n",
       "      <td>132994.0</td>\n",
       "      <td>0.1470</td>\n",
       "      <td>32</td>\n",
       "      <td>305880</td>\n",
       "      <td>5.098000</td>\n",
       "      <td>True</td>\n",
       "    </tr>\n",
       "    <tr>\n",
       "      <th>4</th>\n",
       "      <td>Don’t Stop - Live</td>\n",
       "      <td>Licked Live In NYC</td>\n",
       "      <td>2022-06-10</td>\n",
       "      <td>5</td>\n",
       "      <td>0.4000</td>\n",
       "      <td>0.303</td>\n",
       "      <td>0.969</td>\n",
       "      <td>0.055900</td>\n",
       "      <td>0.966</td>\n",
       "      <td>-5098.0</td>\n",
       "      <td>0.0930</td>\n",
       "      <td>130533.0</td>\n",
       "      <td>0.2060</td>\n",
       "      <td>32</td>\n",
       "      <td>305106</td>\n",
       "      <td>5.085100</td>\n",
       "      <td>True</td>\n",
       "    </tr>\n",
       "  </tbody>\n",
       "</table>\n",
       "</div>"
      ],
      "text/plain": [
       "                          name               album release_date  track_number  \\\n",
       "0   Concert Intro Music - Live  Licked Live In NYC   2022-06-10             1   \n",
       "1   Street Fighting Man - Live  Licked Live In NYC   2022-06-10             2   \n",
       "2           Start Me Up - Live  Licked Live In NYC   2022-06-10             3   \n",
       "3  If You Can't Rock Me - Live  Licked Live In NYC   2022-06-10             4   \n",
       "4            Don’t Stop - Live  Licked Live In NYC   2022-06-10             5   \n",
       "\n",
       "   acousticness  danceability  energy  instrumentalness  liveness  loudness  \\\n",
       "0        0.0824         0.463   0.993          0.996000     0.932  -12913.0   \n",
       "1        0.4370         0.326   0.965          0.233000     0.961   -4803.0   \n",
       "2        0.4160         0.386   0.969          0.400000     0.956   -4936.0   \n",
       "3        0.5670         0.369   0.985          0.000107     0.895   -5535.0   \n",
       "4        0.4000         0.303   0.969          0.055900     0.966   -5098.0   \n",
       "\n",
       "   speechiness     tempo  valence  popularity  duration_ms  duration_min  \\\n",
       "0       0.1100  118001.0   0.0302          33        48640      0.810667   \n",
       "1       0.0759  131455.0   0.3180          34       253173      4.219550   \n",
       "2       0.1150  130066.0   0.3130          34       263160      4.386000   \n",
       "3       0.1930  132994.0   0.1470          32       305880      5.098000   \n",
       "4       0.0930  130533.0   0.2060          32       305106      5.085100   \n",
       "\n",
       "   ao_vivo  \n",
       "0     True  \n",
       "1     True  \n",
       "2     True  \n",
       "3     True  \n",
       "4     True  "
      ]
     },
     "execution_count": 38,
     "metadata": {},
     "output_type": "execute_result"
    }
   ],
   "source": [
    "df_show_ao_vivo.head()"
   ]
  },
  {
   "cell_type": "code",
   "execution_count": 39,
   "metadata": {},
   "outputs": [
    {
     "name": "stdout",
     "output_type": "stream",
     "text": [
      "Média das músicas ao vivo:  5.088648962516734\n"
     ]
    }
   ],
   "source": [
    "print(\"Média das músicas ao vivo: \", df_show_ao_vivo['duration_min'].mean())"
   ]
  },
  {
   "cell_type": "code",
   "execution_count": 40,
   "metadata": {},
   "outputs": [
    {
     "name": "stdout",
     "output_type": "stream",
     "text": [
      "Média das músicas gravadas:  3.940451363908873\n"
     ]
    }
   ],
   "source": [
    "print(\"Média das músicas gravadas: \", df_gravado_em_estudio['duration_min'].mean())"
   ]
  },
  {
   "cell_type": "markdown",
   "metadata": {},
   "source": [
    "## Agora iremos responder algumas perguntas com os nossos dados."
   ]
  },
  {
   "cell_type": "markdown",
   "metadata": {},
   "source": [
    "Agora vamos utilizar o gráfico de histograma para analisar melhor os nossos dados contínuos. Esse tipo de gráfico nos permite visualizar a distribuição dos valores ao agrupar os dados em intervalos, facilitando a identificação de padrões, tendências e possíveis outliers."
   ]
  },
  {
   "cell_type": "code",
   "execution_count": 41,
   "metadata": {},
   "outputs": [],
   "source": [
    "df_studio = df_gravado_em_estudio.groupby('album')['loudness'].sum()"
   ]
  },
  {
   "cell_type": "code",
   "execution_count": 42,
   "metadata": {},
   "outputs": [],
   "source": [
    "df_ao_vivo = df_show_ao_vivo.groupby('album')['loudness'].sum()"
   ]
  },
  {
   "cell_type": "code",
   "execution_count": 43,
   "metadata": {},
   "outputs": [
    {
     "data": {
      "text/plain": [
       "album\n",
       "12 X 5                             -112195.38\n",
       "12 x 5                             -122513.00\n",
       "A Bigger Bang (2009 Re-Mastered)    -54080.72\n",
       "A Bigger Bang (Live)                 -4771.57\n",
       "Aftermath                          -100339.96\n",
       "                                      ...    \n",
       "Undercover                         -101938.00\n",
       "Undercover (2009 Re-Mastered)       -38623.12\n",
       "Voodoo Lounge (Remastered 2009)     -91216.86\n",
       "Voodoo Lounge Uncut (Live)          -87916.84\n",
       "got LIVE if you want it!            -55802.00\n",
       "Name: loudness, Length: 88, dtype: float64"
      ]
     },
     "execution_count": 43,
     "metadata": {},
     "output_type": "execute_result"
    }
   ],
   "source": [
    "df_studio"
   ]
  },
  {
   "cell_type": "code",
   "execution_count": 44,
   "metadata": {},
   "outputs": [
    {
     "data": {
      "text/plain": [
       "album\n",
       "A Bigger Bang (Live)                                                             -84835.44\n",
       "Bridges To Bremen (Live)                                                         -56335.55\n",
       "Bridges To Buenos Aires (Live)                                                   -78869.95\n",
       "Dirty Work                                                                        -2701.00\n",
       "Dirty Work (Remastered 2009)                                                      -2688.00\n",
       "Flashpoint                                                                      -112831.27\n",
       "From The Vault: No Security - San Jose 1999 (Live)                               -79358.40\n",
       "Get Yer Ya Yas Out                                                               -79054.33\n",
       "Get Yer Ya-Ya's Out! (Remastered)                                                -53731.00\n",
       "Get Yer Ya-Ya's Out! The Rolling Stones In Concert (40th Anniversary Edition)    -85996.00\n",
       "Goats Head Soup (Deluxe)                                                         -21019.93\n",
       "Got Live if you want it!                                                         -41849.00\n",
       "Havana Moon (Live)                                                               -60006.15\n",
       "Honk (Deluxe)                                                                    -22195.29\n",
       "Ladies & Gentlemen (Live)                                                        -30469.00\n",
       "Licked Live In NYC                                                              -123113.12\n",
       "Live 1965: Music From Charlie Is My Darling (Live From England/1965)             -33889.00\n",
       "Live At The Checkerboard Lounge                                                  -73015.09\n",
       "Live At The El Mocambo                                                           -70509.00\n",
       "Live Licks                                                                      -115144.92\n",
       "Love You Live (Remastered 2009)                                                  -67715.41\n",
       "Love You Live (Remastered)                                                      -117430.00\n",
       "Now!                                                                              -8645.00\n",
       "Out Of Our Heads                                                                  -9782.00\n",
       "Out Of Our Heads (UK Sequence)                                                    -9186.00\n",
       "Out Of Our Heads (UK)                                                             -8926.00\n",
       "Out Of Our Heads (US Sequence)                                                    -9755.00\n",
       "Some Girls: Live In Texas '78                                                    -88240.41\n",
       "Steel Wheels (Remastered 2009)                                                    -4257.00\n",
       "Steel Wheels Live                                                               -111560.99\n",
       "Sticky Fingers (Deluxe)                                                           -4573.00\n",
       "Sticky Fingers (Super Deluxe)                                                    -22327.00\n",
       "Sticky Fingers Live At The Fonda Theatre                                         -47290.68\n",
       "Still Life                                                                       -44482.00\n",
       "Stripped                                                                         -35229.00\n",
       "Tattoo You (Super Deluxe)                                                       -137311.80\n",
       "The Rolling Stones, Now!                                                          -8689.00\n",
       "Totally Stripped (Live)                                                          -72676.00\n",
       "Totally Stripped - Amsterdam (Live)                                              -89205.00\n",
       "Totally Stripped - Brixton (Live)                                               -101528.30\n",
       "Totally Stripped - Paris (Live)                                                 -106402.16\n",
       "Voodoo Lounge Uncut (Live)                                                      -327870.08\n",
       "got LIVE if you want it!                                                         -41844.00\n",
       "Name: loudness, dtype: float64"
      ]
     },
     "execution_count": 44,
     "metadata": {},
     "output_type": "execute_result"
    }
   ],
   "source": [
    "df_ao_vivo"
   ]
  },
  {
   "cell_type": "markdown",
   "metadata": {},
   "source": [
    "Agora iremos criar dois gráficos um do lado do outro."
   ]
  },
  {
   "cell_type": "code",
   "execution_count": null,
   "metadata": {},
   "outputs": [
    {
     "data": {
      "image/png": "[encoded data removed]",
      "text/plain": [
       "<Figure size 1500x400 with 2 Axes>"
      ]
     },
     "metadata": {},
     "output_type": "display_data"
    }
   ],
   "source": [
    "fig, axes = plt.subplots(1, 2, figsize=(15, 4))\n",
    "\n",
    "sns.histplot(data=df_studio, bins=20, ax=axes[0])\n",
    "axes[0].set_title(\"Soma do barulho dos álbuns de estúdio.\")\n",
    "axes[0].set_xlabel(\"Barulho\")\n",
    "axes[0].set_ylabel(\"Frequência\")\n",
    "\n",
    "sns.histplot(data=df_ao_vivo, bins=20, ax=axes[1])\n",
    "axes[1].set_title(\"Soma do barulho dos álbuns ao vivo.\")\n",
    "axes[1].set_xlabel(\"Barulho\")\n",
    "axes[1].set_ylabel(\"Frequência\")\n",
    "\n",
    "fig.tight_layout()\n",
    "plt.show()\n"
   ]
  },
  {
   "cell_type": "markdown",
   "metadata": {},
   "source": [
    "Agora iremos utilizar um gráfico de densidade."
   ]
  },
  {
   "cell_type": "code",
   "execution_count": 48,
   "metadata": {},
   "outputs": [
    {
     "data": {
      "image/png": "[encoded data removed]",
      "text/plain": [
       "<Figure size 1000x500 with 1 Axes>"
      ]
     },
     "metadata": {},
     "output_type": "display_data"
    }
   ],
   "source": [
    "plt.figure(figsize=(10,5))\n",
    "\n",
    "sns.kdeplot(data=df_studio, label=\"Albúns de estúdio\", fill=True)\n",
    "sns.kdeplot(data=df_ao_vivo, label=\"Albúns ao vivo\", fill=True)\n",
    "\n",
    "plt.title(\"Distribuição do barulho dos álbuns\")\n",
    "plt.xlabel(\"Barulho\")\n",
    "plt.ylabel(\"Densidade\")\n",
    "plt.legend()\n",
    "plt.show()"
   ]
  },
  {
   "cell_type": "markdown",
   "metadata": {},
   "source": [
    "## Testes de Análise"
   ]
  },
  {
   "cell_type": "markdown",
   "metadata": {},
   "source": [
    "Os gráficos nos ajudam muito referente a visualização dos nossos dados, nos permitindo chegar a algumas concluções ou até mesmo em algumas hipóteses, porém um bom analista de dados ou ciêntista de dados, precisa comprovar essa conclusão por meios estatísticos."
   ]
  },
  {
   "cell_type": "markdown",
   "metadata": {},
   "source": [
    "\"Para verificar se a distribuição dos dados é normal, utilizaremos o teste **Shapiro-Wilk**. Esse teste estatístico avalia se os dados seguem uma distribuição aproximadamente normal, indicando se a distribuição é simétrica ou assimétrica."
   ]
  },
  {
   "cell_type": "markdown",
   "metadata": {},
   "source": [
    "Ele irá gerar um valor P(Significancia estatíticas) e a Probabilidade, onde se a nossa distruição estiver a baixo de 0,05 é normal, se der acima não é normal."
   ]
  },
  {
   "cell_type": "code",
   "execution_count": 49,
   "metadata": {},
   "outputs": [],
   "source": [
    "from scipy.stats import shapiro"
   ]
  },
  {
   "cell_type": "code",
   "execution_count": 50,
   "metadata": {},
   "outputs": [
    {
     "name": "stdout",
     "output_type": "stream",
     "text": [
      "Soma dos barulhos dos álbuns de estúdio: \n",
      "Estatíscia de teste: 0.8958, valor P: 3.2961810837730903e-06\n",
      "A hipótese de normalidade é rejeitada\n"
     ]
    }
   ],
   "source": [
    "stat, p = shapiro(df_studio)\n",
    "\n",
    "print(\"Soma dos barulhos dos álbuns de estúdio: \")\n",
    "print(\"Estatíscia de teste: {:.4f}, valor P: {}\".format(stat,p))\n",
    "\n",
    "if p >= 0.05:\n",
    "    print(\"Não há evidência suficiente para rejeitar a hipótese de normalidade.\")\n",
    "else:\n",
    "    print(\"A hipótese de normalidade é rejeitada\")"
   ]
  },
  {
   "cell_type": "code",
   "execution_count": 51,
   "metadata": {},
   "outputs": [
    {
     "name": "stdout",
     "output_type": "stream",
     "text": [
      "Soma dos barulhos dos álbuns ao vivo: \n",
      "Estatíscia de teste: 0.7913, valor P: 2.35060091497093e-06\n",
      "A hipótese de normalidade é rejeitada\n"
     ]
    }
   ],
   "source": [
    "stat, p = shapiro(df_ao_vivo)\n",
    "\n",
    "print(\"Soma dos barulhos dos álbuns ao vivo: \")\n",
    "print(\"Estatíscia de teste: {:.4f}, valor P: {}\".format(stat,p))\n",
    "\n",
    "if p >= 0.05:\n",
    "    print(\"Não há evidência suficiente para rejeitar a hipótese de normalidade.\")\n",
    "else:\n",
    "    print(\"A hipótese de normalidade é rejeitada\")"
   ]
  }
 ],
 "metadata": {
  "kernelspec": {
   "display_name": "Python 3",
   "language": "python",
   "name": "python3"
  },
  "language_info": {
   "codemirror_mode": {
    "name": "ipython",
    "version": 3
   },
   "file_extension": ".py",
   "mimetype": "text/x-python",
   "name": "python",
   "nbconvert_exporter": "python",
   "pygments_lexer": "ipython3",
   "version": "3.11.2"
  }
 },
 "nbformat": 4,
 "nbformat_minor": 2
}
